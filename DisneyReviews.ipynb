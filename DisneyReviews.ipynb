{
 "cells": [
  {
   "cell_type": "markdown",
   "metadata": {},
   "source": [
    "# Disney World Reviews Analysis\n",
    "\n",
    "\n",
    "Data Source: https://www.kaggle.com/arushchillar/disneyland-reviews <br>\n",
    "\n",
    "\n",
    "Disneyland Reviews dataset consists of reviews and ratings of 3 Disneyland location (namely California, Paris & Hongkong), posted by visitors on TripAdvisor.<br>\n",
    "\n",
    "Number of reviews: 42,000<br>\n",
    "Timespan: Oct 2010 - May 2019<br>\n",
    "Number of Attributes/Columns in data: 6 \n",
    "\n",
    "Attribute Information:\n",
    "\n",
    "1. Review_ID: unique id given to each review\n",
    "2. Rating: ranging from 1 (unsatisfied) to 5 (satisfied)\n",
    "3. Year_Month: when the reviewer visited the theme park\n",
    "4. Reviewer_Location: country of origin of visitor\n",
    "5. Review_Text: comments made by visitor\n",
    "6. Disneyland_Branch: location of Disneyland Park\n",
    "\n",
    "\n",
    "#### Objective:\n",
    "Given a review, determine whether the review is positive (Rating of 4 or 5) or negative (rating of 1 or 2).\n",
    "\n",
    "<br>\n",
    "[Q] How to determine if a review is positive or negative?<br>\n",
    "<br> \n",
    "[Ans] We could use the Score/Rating. A rating of 4 or 5 could be cosnidered a positive review. A review of 1 or 2 could be considered negative. A review of 3 is nuetral and ignored. This is an approximate and proxy way of determining the polarity (positivity/negativity) of a review.\n"
   ]
  },
  {
   "cell_type": "markdown",
   "metadata": {},
   "source": [
    "# [1]. Reading Data"
   ]
  },
  {
   "cell_type": "code",
   "execution_count": 1,
   "metadata": {},
   "outputs": [],
   "source": [
    "%matplotlib inline\n",
    "import warnings\n",
    "warnings.filterwarnings(\"ignore\")\n",
    "\n",
    "\n",
    "# using the SQLite Table to read data.\n",
    "import sqlite3\n",
    "\n",
    "import pandas as pd\n",
    "import numpy as np\n",
    "import nltk\n",
    "import string\n",
    "import matplotlib.pyplot as plt\n",
    "import seaborn as sns\n",
    "from sklearn.feature_extraction.text import TfidfTransformer\n",
    "from sklearn.feature_extraction.text import TfidfVectorizer\n",
    "\n",
    "from sklearn.feature_extraction.text import CountVectorizer\n",
    "from sklearn.metrics import confusion_matrix\n",
    "from sklearn import metrics\n",
    "from sklearn.metrics import roc_curve, auc\n",
    "from nltk.stem.porter import PorterStemmer\n",
    "\n",
    "import re\n",
    "# Tutorial about Python regular expressions: https://pymotw.com/2/re/\n",
    "import string\n",
    "from nltk.corpus import stopwords\n",
    "from nltk.stem import PorterStemmer\n",
    "from nltk.stem.wordnet import WordNetLemmatizer\n",
    "\n",
    "#from gensim.models import Word2Vec\n",
    "#from gensim.models import KeyedVectors\n",
    "import pickle\n",
    "\n",
    "from tqdm import tqdm\n",
    "import os"
   ]
  },
  {
   "cell_type": "code",
   "execution_count": 2,
   "metadata": {},
   "outputs": [],
   "source": [
    "con = sqlite3.connect('disneyReviews.db') "
   ]
  },
  {
   "cell_type": "code",
   "execution_count": 3,
   "metadata": {},
   "outputs": [],
   "source": [
    "# Selecting only positive and negative reviews i.e. \n",
    "# Rating=3 will be ignored as this rating is neutral (ie neither positive or negative)\n",
    "# SELECT * FROM Reviews WHERE Rating != 3 LIMIT 20000, will give top 20000 data points\n",
    "# We can change the number to any other number based on your computing power\n",
    "\n",
    "filtered_df = pd.read_sql_query(\"\"\" SELECT * FROM DisneylandReviews WHERE Rating!=3 LIMIT 20000 \"\"\", con)\n",
    "\n",
    "# filtered_df = pd.read_sql_query(\"\"\" SELECT * FROM DisneylandReviews WHERE Rating!=3 LIMIT 20000 \"\"\", con)"
   ]
  },
  {
   "cell_type": "code",
   "execution_count": 4,
   "metadata": {},
   "outputs": [],
   "source": [
    "# Convert reviews with Rating>3 a positive rating, and reviews with a Rating<3 a negative rating.\n",
    "def partition(x):\n",
    "    if x < 3:\n",
    "        return 0\n",
    "    return 1"
   ]
  },
  {
   "cell_type": "code",
   "execution_count": 6,
   "metadata": {},
   "outputs": [
    {
     "name": "stdout",
     "output_type": "stream",
     "text": [
      "Number of data points in our data (20000, 6)\n"
     ]
    },
    {
     "data": {
      "text/html": [
       "<div>\n",
       "<style scoped>\n",
       "    .dataframe tbody tr th:only-of-type {\n",
       "        vertical-align: middle;\n",
       "    }\n",
       "\n",
       "    .dataframe tbody tr th {\n",
       "        vertical-align: top;\n",
       "    }\n",
       "\n",
       "    .dataframe thead th {\n",
       "        text-align: right;\n",
       "    }\n",
       "</style>\n",
       "<table border=\"1\" class=\"dataframe\">\n",
       "  <thead>\n",
       "    <tr style=\"text-align: right;\">\n",
       "      <th></th>\n",
       "      <th>Review_ID</th>\n",
       "      <th>Rating</th>\n",
       "      <th>Year_Month</th>\n",
       "      <th>Reviewer_Location</th>\n",
       "      <th>Review_Text</th>\n",
       "      <th>Branch</th>\n",
       "    </tr>\n",
       "  </thead>\n",
       "  <tbody>\n",
       "    <tr>\n",
       "      <th>0</th>\n",
       "      <td>670772142</td>\n",
       "      <td>1</td>\n",
       "      <td>2019-4</td>\n",
       "      <td>Australia</td>\n",
       "      <td>If you've ever been to Disneyland anywhere you...</td>\n",
       "      <td>Disneyland_HongKong</td>\n",
       "    </tr>\n",
       "    <tr>\n",
       "      <th>1</th>\n",
       "      <td>670682799</td>\n",
       "      <td>1</td>\n",
       "      <td>2019-5</td>\n",
       "      <td>Philippines</td>\n",
       "      <td>Its been a while since d last time we visit HK...</td>\n",
       "      <td>Disneyland_HongKong</td>\n",
       "    </tr>\n",
       "    <tr>\n",
       "      <th>2</th>\n",
       "      <td>670623270</td>\n",
       "      <td>1</td>\n",
       "      <td>2019-4</td>\n",
       "      <td>United Arab Emirates</td>\n",
       "      <td>Thanks God it wasn   t too hot or too humid wh...</td>\n",
       "      <td>Disneyland_HongKong</td>\n",
       "    </tr>\n",
       "  </tbody>\n",
       "</table>\n",
       "</div>"
      ],
      "text/plain": [
       "   Review_ID  Rating Year_Month     Reviewer_Location  \\\n",
       "0  670772142       1     2019-4             Australia   \n",
       "1  670682799       1     2019-5           Philippines   \n",
       "2  670623270       1     2019-4  United Arab Emirates   \n",
       "\n",
       "                                         Review_Text               Branch  \n",
       "0  If you've ever been to Disneyland anywhere you...  Disneyland_HongKong  \n",
       "1  Its been a while since d last time we visit HK...  Disneyland_HongKong  \n",
       "2  Thanks God it wasn   t too hot or too humid wh...  Disneyland_HongKong  "
      ]
     },
     "execution_count": 6,
     "metadata": {},
     "output_type": "execute_result"
    }
   ],
   "source": [
    "#changing reviews with Rating less than 3 to be positive and Rating greater than 3 to be negative\n",
    "actualScore = filtered_df['Rating']\n",
    "positiveNegative = actualScore.map(partition) \n",
    "filtered_df['Rating'] = positiveNegative\n",
    "print(\"Number of data points in our data\", filtered_df.shape)\n",
    "filtered_df.head(3)"
   ]
  },
  {
   "cell_type": "code",
   "execution_count": 14,
   "metadata": {},
   "outputs": [],
   "source": [
    "display_df = pd.read_sql_query(\"\"\"\n",
    "SELECT Review_ID,Rating, Year_Month, Reviewer_Location, Review_Text, Branch, COUNT(*)\n",
    "FROM DisneylandReviews\n",
    "GROUP BY Review_Text\n",
    "HAVING COUNT(*)>1\n",
    "\"\"\", con)"
   ]
  },
  {
   "cell_type": "code",
   "execution_count": 15,
   "metadata": {},
   "outputs": [
    {
     "name": "stdout",
     "output_type": "stream",
     "text": [
      "(24, 7)\n"
     ]
    },
    {
     "data": {
      "text/html": [
       "<div>\n",
       "<style scoped>\n",
       "    .dataframe tbody tr th:only-of-type {\n",
       "        vertical-align: middle;\n",
       "    }\n",
       "\n",
       "    .dataframe tbody tr th {\n",
       "        vertical-align: top;\n",
       "    }\n",
       "\n",
       "    .dataframe thead th {\n",
       "        text-align: right;\n",
       "    }\n",
       "</style>\n",
       "<table border=\"1\" class=\"dataframe\">\n",
       "  <thead>\n",
       "    <tr style=\"text-align: right;\">\n",
       "      <th></th>\n",
       "      <th>Review_ID</th>\n",
       "      <th>Rating</th>\n",
       "      <th>Year_Month</th>\n",
       "      <th>Reviewer_Location</th>\n",
       "      <th>Review_Text</th>\n",
       "      <th>Branch</th>\n",
       "      <th>COUNT(*)</th>\n",
       "    </tr>\n",
       "  </thead>\n",
       "  <tbody>\n",
       "    <tr>\n",
       "      <th>0</th>\n",
       "      <td>198850214</td>\n",
       "      <td>4</td>\n",
       "      <td>2014-3</td>\n",
       "      <td>United States</td>\n",
       "      <td>3 day Military Hopper Pass; best deal around. ...</td>\n",
       "      <td>Disneyland_California</td>\n",
       "      <td>2</td>\n",
       "    </tr>\n",
       "    <tr>\n",
       "      <th>1</th>\n",
       "      <td>606997669</td>\n",
       "      <td>5</td>\n",
       "      <td>2018-8</td>\n",
       "      <td>France</td>\n",
       "      <td>ActiveX VT ERROR:</td>\n",
       "      <td>Disneyland_Paris</td>\n",
       "      <td>2</td>\n",
       "    </tr>\n",
       "    <tr>\n",
       "      <th>2</th>\n",
       "      <td>166784597</td>\n",
       "      <td>4</td>\n",
       "      <td>2013-5</td>\n",
       "      <td>United States</td>\n",
       "      <td>Disneyland  we love it!  The service is incomp...</td>\n",
       "      <td>Disneyland_California</td>\n",
       "      <td>2</td>\n",
       "    </tr>\n",
       "    <tr>\n",
       "      <th>3</th>\n",
       "      <td>226905150</td>\n",
       "      <td>5</td>\n",
       "      <td>2014-5</td>\n",
       "      <td>United States</td>\n",
       "      <td>Disneyland Paris is different then other Disne...</td>\n",
       "      <td>Disneyland_Paris</td>\n",
       "      <td>2</td>\n",
       "    </tr>\n",
       "    <tr>\n",
       "      <th>4</th>\n",
       "      <td>239871388</td>\n",
       "      <td>4</td>\n",
       "      <td>2014-10</td>\n",
       "      <td>Canada</td>\n",
       "      <td>Disneyland, Hong Kong Disneyland (Hong Kong) i...</td>\n",
       "      <td>Disneyland_HongKong</td>\n",
       "      <td>2</td>\n",
       "    </tr>\n",
       "  </tbody>\n",
       "</table>\n",
       "</div>"
      ],
      "text/plain": [
       "   Review_ID  Rating Year_Month Reviewer_Location  \\\n",
       "0  198850214       4     2014-3     United States   \n",
       "1  606997669       5     2018-8            France   \n",
       "2  166784597       4     2013-5     United States   \n",
       "3  226905150       5     2014-5     United States   \n",
       "4  239871388       4    2014-10            Canada   \n",
       "\n",
       "                                         Review_Text                 Branch  \\\n",
       "0  3 day Military Hopper Pass; best deal around. ...  Disneyland_California   \n",
       "1                                  ActiveX VT ERROR:       Disneyland_Paris   \n",
       "2  Disneyland  we love it!  The service is incomp...  Disneyland_California   \n",
       "3  Disneyland Paris is different then other Disne...       Disneyland_Paris   \n",
       "4  Disneyland, Hong Kong Disneyland (Hong Kong) i...    Disneyland_HongKong   \n",
       "\n",
       "   COUNT(*)  \n",
       "0         2  \n",
       "1         2  \n",
       "2         2  \n",
       "3         2  \n",
       "4         2  "
      ]
     },
     "execution_count": 15,
     "metadata": {},
     "output_type": "execute_result"
    }
   ],
   "source": [
    "print(display_df.shape)\n",
    "display_df.head()"
   ]
  },
  {
   "cell_type": "code",
   "execution_count": 27,
   "metadata": {},
   "outputs": [
    {
     "data": {
      "text/html": [
       "<div>\n",
       "<style scoped>\n",
       "    .dataframe tbody tr th:only-of-type {\n",
       "        vertical-align: middle;\n",
       "    }\n",
       "\n",
       "    .dataframe tbody tr th {\n",
       "        vertical-align: top;\n",
       "    }\n",
       "\n",
       "    .dataframe thead th {\n",
       "        text-align: right;\n",
       "    }\n",
       "</style>\n",
       "<table border=\"1\" class=\"dataframe\">\n",
       "  <thead>\n",
       "    <tr style=\"text-align: right;\">\n",
       "      <th></th>\n",
       "      <th>Review_ID</th>\n",
       "      <th>Rating</th>\n",
       "      <th>Year_Month</th>\n",
       "      <th>Reviewer_Location</th>\n",
       "      <th>Review_Text</th>\n",
       "      <th>Branch</th>\n",
       "      <th>COUNT(*)</th>\n",
       "    </tr>\n",
       "  </thead>\n",
       "  <tbody>\n",
       "    <tr>\n",
       "      <th>0</th>\n",
       "      <td>198850214</td>\n",
       "      <td>4</td>\n",
       "      <td>2014-3</td>\n",
       "      <td>United States</td>\n",
       "      <td>3 day Military Hopper Pass; best deal around. ...</td>\n",
       "      <td>Disneyland_California</td>\n",
       "      <td>2</td>\n",
       "    </tr>\n",
       "  </tbody>\n",
       "</table>\n",
       "</div>"
      ],
      "text/plain": [
       "   Review_ID  Rating Year_Month Reviewer_Location  \\\n",
       "0  198850214       4     2014-3     United States   \n",
       "\n",
       "                                         Review_Text                 Branch  \\\n",
       "0  3 day Military Hopper Pass; best deal around. ...  Disneyland_California   \n",
       "\n",
       "   COUNT(*)  \n",
       "0         2  "
      ]
     },
     "execution_count": 27,
     "metadata": {},
     "output_type": "execute_result"
    }
   ],
   "source": [
    "display_df[display_df['Review_ID']==198850214]"
   ]
  },
  {
   "cell_type": "code",
   "execution_count": 29,
   "metadata": {},
   "outputs": [
    {
     "data": {
      "text/plain": [
       "48"
      ]
     },
     "execution_count": 29,
     "metadata": {},
     "output_type": "execute_result"
    }
   ],
   "source": [
    "display_df['COUNT(*)'].sum()"
   ]
  },
  {
   "cell_type": "code",
   "execution_count": 28,
   "metadata": {},
   "outputs": [],
   "source": [
    "# Give reviews with Score>3 a positive rating, and reviews with a score<3 a negative rating.\n",
    "def partition(x):\n",
    "    if x < 3:\n",
    "        return 0\n",
    "    return 1"
   ]
  },
  {
   "cell_type": "markdown",
   "metadata": {},
   "source": [
    "#  Exploratory Data Analysis\n",
    "\n",
    "## [2] Data Preprocessing\n",
    "\n",
    "It is observed (as shown in the table below) that the reviews data had significant (~1%) duplicate entries. Hence, it is necessary to remove duplicates in order to get unbiased results for the analysis of the data.  Following is an example:"
   ]
  },
  {
   "cell_type": "code",
   "execution_count": 30,
   "metadata": {},
   "outputs": [
    {
     "data": {
      "text/html": [
       "<div>\n",
       "<style scoped>\n",
       "    .dataframe tbody tr th:only-of-type {\n",
       "        vertical-align: middle;\n",
       "    }\n",
       "\n",
       "    .dataframe tbody tr th {\n",
       "        vertical-align: top;\n",
       "    }\n",
       "\n",
       "    .dataframe thead th {\n",
       "        text-align: right;\n",
       "    }\n",
       "</style>\n",
       "<table border=\"1\" class=\"dataframe\">\n",
       "  <thead>\n",
       "    <tr style=\"text-align: right;\">\n",
       "      <th></th>\n",
       "      <th>Review_ID</th>\n",
       "      <th>Rating</th>\n",
       "      <th>Year_Month</th>\n",
       "      <th>Reviewer_Location</th>\n",
       "      <th>Review_Text</th>\n",
       "      <th>Branch</th>\n",
       "      <th>COUNT(*)</th>\n",
       "    </tr>\n",
       "  </thead>\n",
       "  <tbody>\n",
       "    <tr>\n",
       "      <th>0</th>\n",
       "      <td>198850214</td>\n",
       "      <td>4</td>\n",
       "      <td>2014-3</td>\n",
       "      <td>United States</td>\n",
       "      <td>3 day Military Hopper Pass; best deal around. ...</td>\n",
       "      <td>Disneyland_California</td>\n",
       "      <td>2</td>\n",
       "    </tr>\n",
       "    <tr>\n",
       "      <th>1</th>\n",
       "      <td>606997669</td>\n",
       "      <td>5</td>\n",
       "      <td>2018-8</td>\n",
       "      <td>France</td>\n",
       "      <td>ActiveX VT ERROR:</td>\n",
       "      <td>Disneyland_Paris</td>\n",
       "      <td>2</td>\n",
       "    </tr>\n",
       "    <tr>\n",
       "      <th>2</th>\n",
       "      <td>166784597</td>\n",
       "      <td>4</td>\n",
       "      <td>2013-5</td>\n",
       "      <td>United States</td>\n",
       "      <td>Disneyland  we love it!  The service is incomp...</td>\n",
       "      <td>Disneyland_California</td>\n",
       "      <td>2</td>\n",
       "    </tr>\n",
       "    <tr>\n",
       "      <th>3</th>\n",
       "      <td>226905150</td>\n",
       "      <td>5</td>\n",
       "      <td>2014-5</td>\n",
       "      <td>United States</td>\n",
       "      <td>Disneyland Paris is different then other Disne...</td>\n",
       "      <td>Disneyland_Paris</td>\n",
       "      <td>2</td>\n",
       "    </tr>\n",
       "    <tr>\n",
       "      <th>4</th>\n",
       "      <td>239871388</td>\n",
       "      <td>4</td>\n",
       "      <td>2014-10</td>\n",
       "      <td>Canada</td>\n",
       "      <td>Disneyland, Hong Kong Disneyland (Hong Kong) i...</td>\n",
       "      <td>Disneyland_HongKong</td>\n",
       "      <td>2</td>\n",
       "    </tr>\n",
       "  </tbody>\n",
       "</table>\n",
       "</div>"
      ],
      "text/plain": [
       "   Review_ID  Rating Year_Month Reviewer_Location  \\\n",
       "0  198850214       4     2014-3     United States   \n",
       "1  606997669       5     2018-8            France   \n",
       "2  166784597       4     2013-5     United States   \n",
       "3  226905150       5     2014-5     United States   \n",
       "4  239871388       4    2014-10            Canada   \n",
       "\n",
       "                                         Review_Text                 Branch  \\\n",
       "0  3 day Military Hopper Pass; best deal around. ...  Disneyland_California   \n",
       "1                                  ActiveX VT ERROR:       Disneyland_Paris   \n",
       "2  Disneyland  we love it!  The service is incomp...  Disneyland_California   \n",
       "3  Disneyland Paris is different then other Disne...       Disneyland_Paris   \n",
       "4  Disneyland, Hong Kong Disneyland (Hong Kong) i...    Disneyland_HongKong   \n",
       "\n",
       "   COUNT(*)  \n",
       "0         2  \n",
       "1         2  \n",
       "2         2  \n",
       "3         2  \n",
       "4         2  "
      ]
     },
     "execution_count": 30,
     "metadata": {},
     "output_type": "execute_result"
    }
   ],
   "source": [
    "display_df.head()"
   ]
  },
  {
   "cell_type": "markdown",
   "metadata": {},
   "source": [
    "As displayed above the same Reviewer_ID has multiple reviews of the with the same values for Rating, Year_MOnth, Reviewer_LOcation, Branch and Review_Text. On further analysis it was found that <br>\n",
    "<br> \n",
    "Review_text is exactly same for the duplicate reviews.\n",
    "\n",
    "It was inferred after analysis that reviews with same parameters. Therefore, it is imperative to reduce redundancy. Decided to eliminate the rows having same exact parameters to avoid bias.<br>\n",
    "\n",
    "The method used for the same was that we first sort the data according to Review_ID and then just keep the first similar Review_Text and drop redundant records from the dataframe. for eg. in the above just the review for Review_ID=198850214, first occurence remains. This method ensures that there is only one representative for each Review/Rating and deduplication without sorting would lead to possibility of different representatives still existing for the same product."
   ]
  },
  {
   "cell_type": "code",
   "execution_count": 31,
   "metadata": {},
   "outputs": [],
   "source": [
    "#Sorting data according to Review_ID in ascending order\n",
    "sorted_df=filtered_df.sort_values('Review_ID', axis=0, ascending=True, inplace=False, kind='mergesort', na_position='last')"
   ]
  },
  {
   "cell_type": "code",
   "execution_count": 32,
   "metadata": {},
   "outputs": [
    {
     "data": {
      "text/plain": [
       "(19993, 6)"
      ]
     },
     "execution_count": 32,
     "metadata": {},
     "output_type": "execute_result"
    }
   ],
   "source": [
    "#Deduplication of entries\n",
    "final_df=sorted_df.drop_duplicates(subset={\"Review_ID\",\"Year_Month\",\"Reviewer_Location\",\"Review_Text\",\"Branch\"}, keep='first', inplace=False)\n",
    "final_df.shape"
   ]
  },
  {
   "cell_type": "code",
   "execution_count": 34,
   "metadata": {},
   "outputs": [
    {
     "data": {
      "text/plain": [
       "100.0"
      ]
     },
     "execution_count": 34,
     "metadata": {},
     "output_type": "execute_result"
    }
   ],
   "source": [
    "#Calculate % of data still remains post deduplication\n",
    "(final_df['Review_ID'].size*1.0)/(final_df['Review_ID'].size*1.0)*100"
   ]
  },
  {
   "cell_type": "code",
   "execution_count": 38,
   "metadata": {},
   "outputs": [
    {
     "name": "stdout",
     "output_type": "stream",
     "text": [
      "(19993, 6)\n"
     ]
    },
    {
     "data": {
      "text/plain": [
       "1    18586\n",
       "0     1407\n",
       "Name: Rating, dtype: int64"
      ]
     },
     "execution_count": 38,
     "metadata": {},
     "output_type": "execute_result"
    }
   ],
   "source": [
    "#Get the dataframe shape, before starting the Text-preprocessing phase\n",
    "print(final_df.shape)\n",
    "\n",
    "#Check number of positive and negative reviews are present in our dataset?\n",
    "final_df['Rating'].value_counts()\n"
   ]
  },
  {
   "cell_type": "markdown",
   "metadata": {},
   "source": [
    "Observation : Deduplication (Perhaps, Original) dataset is imbalanced with more than ~92% of records are positive reviews"
   ]
  },
  {
   "cell_type": "markdown",
   "metadata": {},
   "source": [
    "# [3].  Text Preprocessing.\n",
    "\n",
    "Now that we have finished deduplication our data requires some preprocessing before we go on further with analysis and making the prediction model.\n",
    "\n",
    "Hence in the Preprocessing phase we do the following in the order below:-\n",
    "\n",
    "1. Begin by removing the html tags\n",
    "2. Remove any punctuations or limited set of special characters like , or . or # etc.\n",
    "3. Check if the word is made up of english letters and is not alpha-numeric\n",
    "4. Check to see if the length of the word is greater than 2 (as it was researched that there is no adjective in 2-letters)\n",
    "5. Convert the word to lowercase\n",
    "6. Remove Stopwords\n",
    "7. Finally Snowball Stemming the word (it was obsereved to be better than Porter Stemming)<br>\n",
    "\n",
    "After which we collect the words used to describe positive and negative reviews"
   ]
  }
 ],
 "metadata": {
  "kernelspec": {
   "display_name": "Python 3",
   "language": "python",
   "name": "python3"
  },
  "language_info": {
   "codemirror_mode": {
    "name": "ipython",
    "version": 3
   },
   "file_extension": ".py",
   "mimetype": "text/x-python",
   "name": "python",
   "nbconvert_exporter": "python",
   "pygments_lexer": "ipython3",
   "version": "3.7.3"
  }
 },
 "nbformat": 4,
 "nbformat_minor": 2
}
