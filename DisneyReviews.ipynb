{
 "cells": [
  {
   "cell_type": "markdown",
   "metadata": {},
   "source": [
    "# Disney World Reviews Analysis\n",
    "\n",
    "\n",
    "Data Source: https://www.kaggle.com/arushchillar/disneyland-reviews <br>\n",
    "\n",
    "\n",
    "Disneyland Reviews dataset consists of reviews and ratings of 3 Disneyland location (namely California, Paris & Hongkong), posted by visitors on TripAdvisor.<br>\n",
    "\n",
    "Number of reviews: 42,000<br>\n",
    "Timespan: Oct 2010 - May 2019<br>\n",
    "Number of Attributes/Columns in data: 6 \n",
    "\n",
    "Attribute Information:\n",
    "\n",
    "1. Review_ID: unique id given to each review\n",
    "2. Rating: ranging from 1 (unsatisfied) to 5 (satisfied)\n",
    "3. Year_Month: when the reviewer visited the theme park\n",
    "4. Reviewer_Location: country of origin of visitor\n",
    "5. Review_Text: comments made by visitor\n",
    "6. Disneyland_Branch: location of Disneyland Park\n",
    "\n",
    "\n",
    "#### Objective:\n",
    "Given a review, determine whether the review is positive (Rating of 4 or 5) or negative (rating of 1 or 2).\n",
    "\n",
    "<br>\n",
    "[Q] How to determine if a review is positive or negative?<br>\n",
    "<br> \n",
    "[Ans] We could use the Score/Rating. A rating of 4 or 5 could be cosnidered a positive review. A review of 1 or 2 could be considered negative. A review of 3 is nuetral and ignored. This is an approximate and proxy way of determining the polarity (positivity/negativity) of a review.\n"
   ]
  },
  {
   "cell_type": "markdown",
   "metadata": {},
   "source": [
    "# [1]. Reading Data"
   ]
  },
  {
   "cell_type": "code",
   "execution_count": 1,
   "metadata": {},
   "outputs": [],
   "source": [
    "%matplotlib inline\n",
    "import warnings\n",
    "warnings.filterwarnings(\"ignore\")\n",
    "\n",
    "\n",
    "# using the SQLite Table to read data.\n",
    "import sqlite3\n",
    "\n",
    "import pandas as pd\n",
    "import numpy as np\n",
    "import nltk\n",
    "import string\n",
    "import matplotlib.pyplot as plt\n",
    "import seaborn as sns\n",
    "from sklearn.feature_extraction.text import TfidfTransformer\n",
    "from sklearn.feature_extraction.text import TfidfVectorizer\n",
    "\n",
    "from sklearn.feature_extraction.text import CountVectorizer\n",
    "from sklearn.metrics import confusion_matrix\n",
    "from sklearn import metrics\n",
    "from sklearn.metrics import roc_curve, auc\n",
    "from nltk.stem.porter import PorterStemmer\n",
    "\n",
    "import re\n",
    "# Tutorial about Python regular expressions: https://pymotw.com/2/re/\n",
    "import string\n",
    "from nltk.corpus import stopwords\n",
    "from nltk.stem import PorterStemmer\n",
    "from nltk.stem.wordnet import WordNetLemmatizer\n",
    "\n",
    "#from gensim.models import Word2Vec\n",
    "#from gensim.models import KeyedVectors\n",
    "import pickle\n",
    "\n",
    "from tqdm import tqdm\n",
    "import os"
   ]
  },
  {
   "cell_type": "code",
   "execution_count": 2,
   "metadata": {},
   "outputs": [],
   "source": [
    "con = sqlite3.connect('disneyReviews.db') "
   ]
  },
  {
   "cell_type": "code",
   "execution_count": 3,
   "metadata": {},
   "outputs": [],
   "source": [
    "# Selecting only positive and negative reviews i.e. \n",
    "# Rating=3 will be ignored as this rating is neutral (ie neither positive or negative)\n",
    "# SELECT * FROM Reviews WHERE Rating != 3 LIMIT 20000, will give top 20000 data points\n",
    "# We can change the number to any other number based on your computing power\n",
    "\n",
    "filtered_df = pd.read_sql_query(\"\"\" SELECT * FROM DisneylandReviews WHERE Rating!=3 LIMIT 20000 \"\"\", con)\n",
    "\n",
    "# filtered_df = pd.read_sql_query(\"\"\" SELECT * FROM DisneylandReviews WHERE Rating!=3 LIMIT 20000 \"\"\", con)"
   ]
  },
  {
   "cell_type": "code",
   "execution_count": 4,
   "metadata": {},
   "outputs": [],
   "source": [
    "# Convert reviews with Rating>3 a positive rating, and reviews with a Rating<3 a negative rating.\n",
    "def partition(x):\n",
    "    if x < 3:\n",
    "        return 0\n",
    "    return 1"
   ]
  },
  {
   "cell_type": "code",
   "execution_count": 6,
   "metadata": {},
   "outputs": [
    {
     "name": "stdout",
     "output_type": "stream",
     "text": [
      "Number of data points in our data (20000, 6)\n"
     ]
    },
    {
     "data": {
      "text/html": [
       "<div>\n",
       "<style scoped>\n",
       "    .dataframe tbody tr th:only-of-type {\n",
       "        vertical-align: middle;\n",
       "    }\n",
       "\n",
       "    .dataframe tbody tr th {\n",
       "        vertical-align: top;\n",
       "    }\n",
       "\n",
       "    .dataframe thead th {\n",
       "        text-align: right;\n",
       "    }\n",
       "</style>\n",
       "<table border=\"1\" class=\"dataframe\">\n",
       "  <thead>\n",
       "    <tr style=\"text-align: right;\">\n",
       "      <th></th>\n",
       "      <th>Review_ID</th>\n",
       "      <th>Rating</th>\n",
       "      <th>Year_Month</th>\n",
       "      <th>Reviewer_Location</th>\n",
       "      <th>Review_Text</th>\n",
       "      <th>Branch</th>\n",
       "    </tr>\n",
       "  </thead>\n",
       "  <tbody>\n",
       "    <tr>\n",
       "      <th>0</th>\n",
       "      <td>670772142</td>\n",
       "      <td>1</td>\n",
       "      <td>2019-4</td>\n",
       "      <td>Australia</td>\n",
       "      <td>If you've ever been to Disneyland anywhere you...</td>\n",
       "      <td>Disneyland_HongKong</td>\n",
       "    </tr>\n",
       "    <tr>\n",
       "      <th>1</th>\n",
       "      <td>670682799</td>\n",
       "      <td>1</td>\n",
       "      <td>2019-5</td>\n",
       "      <td>Philippines</td>\n",
       "      <td>Its been a while since d last time we visit HK...</td>\n",
       "      <td>Disneyland_HongKong</td>\n",
       "    </tr>\n",
       "    <tr>\n",
       "      <th>2</th>\n",
       "      <td>670623270</td>\n",
       "      <td>1</td>\n",
       "      <td>2019-4</td>\n",
       "      <td>United Arab Emirates</td>\n",
       "      <td>Thanks God it wasn   t too hot or too humid wh...</td>\n",
       "      <td>Disneyland_HongKong</td>\n",
       "    </tr>\n",
       "  </tbody>\n",
       "</table>\n",
       "</div>"
      ],
      "text/plain": [
       "   Review_ID  Rating Year_Month     Reviewer_Location  \\\n",
       "0  670772142       1     2019-4             Australia   \n",
       "1  670682799       1     2019-5           Philippines   \n",
       "2  670623270       1     2019-4  United Arab Emirates   \n",
       "\n",
       "                                         Review_Text               Branch  \n",
       "0  If you've ever been to Disneyland anywhere you...  Disneyland_HongKong  \n",
       "1  Its been a while since d last time we visit HK...  Disneyland_HongKong  \n",
       "2  Thanks God it wasn   t too hot or too humid wh...  Disneyland_HongKong  "
      ]
     },
     "execution_count": 6,
     "metadata": {},
     "output_type": "execute_result"
    }
   ],
   "source": [
    "#changing reviews with Rating less than 3 to be positive and Rating greater than 3 to be negative\n",
    "actualScore = filtered_df['Rating']\n",
    "positiveNegative = actualScore.map(partition) \n",
    "filtered_df['Rating'] = positiveNegative\n",
    "print(\"Number of data points in our data\", filtered_df.shape)\n",
    "filtered_df.head(3)"
   ]
  },
  {
   "cell_type": "code",
   "execution_count": 14,
   "metadata": {},
   "outputs": [],
   "source": [
    "display_df = pd.read_sql_query(\"\"\"\n",
    "SELECT Review_ID,Rating, Year_Month, Reviewer_Location, Review_Text, Branch, COUNT(*)\n",
    "FROM DisneylandReviews\n",
    "GROUP BY Review_Text\n",
    "HAVING COUNT(*)>1\n",
    "\"\"\", con)"
   ]
  },
  {
   "cell_type": "code",
   "execution_count": 15,
   "metadata": {},
   "outputs": [
    {
     "name": "stdout",
     "output_type": "stream",
     "text": [
      "(24, 7)\n"
     ]
    },
    {
     "data": {
      "text/html": [
       "<div>\n",
       "<style scoped>\n",
       "    .dataframe tbody tr th:only-of-type {\n",
       "        vertical-align: middle;\n",
       "    }\n",
       "\n",
       "    .dataframe tbody tr th {\n",
       "        vertical-align: top;\n",
       "    }\n",
       "\n",
       "    .dataframe thead th {\n",
       "        text-align: right;\n",
       "    }\n",
       "</style>\n",
       "<table border=\"1\" class=\"dataframe\">\n",
       "  <thead>\n",
       "    <tr style=\"text-align: right;\">\n",
       "      <th></th>\n",
       "      <th>Review_ID</th>\n",
       "      <th>Rating</th>\n",
       "      <th>Year_Month</th>\n",
       "      <th>Reviewer_Location</th>\n",
       "      <th>Review_Text</th>\n",
       "      <th>Branch</th>\n",
       "      <th>COUNT(*)</th>\n",
       "    </tr>\n",
       "  </thead>\n",
       "  <tbody>\n",
       "    <tr>\n",
       "      <th>0</th>\n",
       "      <td>198850214</td>\n",
       "      <td>4</td>\n",
       "      <td>2014-3</td>\n",
       "      <td>United States</td>\n",
       "      <td>3 day Military Hopper Pass; best deal around. ...</td>\n",
       "      <td>Disneyland_California</td>\n",
       "      <td>2</td>\n",
       "    </tr>\n",
       "    <tr>\n",
       "      <th>1</th>\n",
       "      <td>606997669</td>\n",
       "      <td>5</td>\n",
       "      <td>2018-8</td>\n",
       "      <td>France</td>\n",
       "      <td>ActiveX VT ERROR:</td>\n",
       "      <td>Disneyland_Paris</td>\n",
       "      <td>2</td>\n",
       "    </tr>\n",
       "    <tr>\n",
       "      <th>2</th>\n",
       "      <td>166784597</td>\n",
       "      <td>4</td>\n",
       "      <td>2013-5</td>\n",
       "      <td>United States</td>\n",
       "      <td>Disneyland  we love it!  The service is incomp...</td>\n",
       "      <td>Disneyland_California</td>\n",
       "      <td>2</td>\n",
       "    </tr>\n",
       "    <tr>\n",
       "      <th>3</th>\n",
       "      <td>226905150</td>\n",
       "      <td>5</td>\n",
       "      <td>2014-5</td>\n",
       "      <td>United States</td>\n",
       "      <td>Disneyland Paris is different then other Disne...</td>\n",
       "      <td>Disneyland_Paris</td>\n",
       "      <td>2</td>\n",
       "    </tr>\n",
       "    <tr>\n",
       "      <th>4</th>\n",
       "      <td>239871388</td>\n",
       "      <td>4</td>\n",
       "      <td>2014-10</td>\n",
       "      <td>Canada</td>\n",
       "      <td>Disneyland, Hong Kong Disneyland (Hong Kong) i...</td>\n",
       "      <td>Disneyland_HongKong</td>\n",
       "      <td>2</td>\n",
       "    </tr>\n",
       "  </tbody>\n",
       "</table>\n",
       "</div>"
      ],
      "text/plain": [
       "   Review_ID  Rating Year_Month Reviewer_Location  \\\n",
       "0  198850214       4     2014-3     United States   \n",
       "1  606997669       5     2018-8            France   \n",
       "2  166784597       4     2013-5     United States   \n",
       "3  226905150       5     2014-5     United States   \n",
       "4  239871388       4    2014-10            Canada   \n",
       "\n",
       "                                         Review_Text                 Branch  \\\n",
       "0  3 day Military Hopper Pass; best deal around. ...  Disneyland_California   \n",
       "1                                  ActiveX VT ERROR:       Disneyland_Paris   \n",
       "2  Disneyland  we love it!  The service is incomp...  Disneyland_California   \n",
       "3  Disneyland Paris is different then other Disne...       Disneyland_Paris   \n",
       "4  Disneyland, Hong Kong Disneyland (Hong Kong) i...    Disneyland_HongKong   \n",
       "\n",
       "   COUNT(*)  \n",
       "0         2  \n",
       "1         2  \n",
       "2         2  \n",
       "3         2  \n",
       "4         2  "
      ]
     },
     "execution_count": 15,
     "metadata": {},
     "output_type": "execute_result"
    }
   ],
   "source": [
    "print(display_df.shape)\n",
    "display_df.head()"
   ]
  },
  {
   "cell_type": "code",
   "execution_count": 27,
   "metadata": {},
   "outputs": [
    {
     "data": {
      "text/html": [
       "<div>\n",
       "<style scoped>\n",
       "    .dataframe tbody tr th:only-of-type {\n",
       "        vertical-align: middle;\n",
       "    }\n",
       "\n",
       "    .dataframe tbody tr th {\n",
       "        vertical-align: top;\n",
       "    }\n",
       "\n",
       "    .dataframe thead th {\n",
       "        text-align: right;\n",
       "    }\n",
       "</style>\n",
       "<table border=\"1\" class=\"dataframe\">\n",
       "  <thead>\n",
       "    <tr style=\"text-align: right;\">\n",
       "      <th></th>\n",
       "      <th>Review_ID</th>\n",
       "      <th>Rating</th>\n",
       "      <th>Year_Month</th>\n",
       "      <th>Reviewer_Location</th>\n",
       "      <th>Review_Text</th>\n",
       "      <th>Branch</th>\n",
       "      <th>COUNT(*)</th>\n",
       "    </tr>\n",
       "  </thead>\n",
       "  <tbody>\n",
       "    <tr>\n",
       "      <th>0</th>\n",
       "      <td>198850214</td>\n",
       "      <td>4</td>\n",
       "      <td>2014-3</td>\n",
       "      <td>United States</td>\n",
       "      <td>3 day Military Hopper Pass; best deal around. ...</td>\n",
       "      <td>Disneyland_California</td>\n",
       "      <td>2</td>\n",
       "    </tr>\n",
       "  </tbody>\n",
       "</table>\n",
       "</div>"
      ],
      "text/plain": [
       "   Review_ID  Rating Year_Month Reviewer_Location  \\\n",
       "0  198850214       4     2014-3     United States   \n",
       "\n",
       "                                         Review_Text                 Branch  \\\n",
       "0  3 day Military Hopper Pass; best deal around. ...  Disneyland_California   \n",
       "\n",
       "   COUNT(*)  \n",
       "0         2  "
      ]
     },
     "execution_count": 27,
     "metadata": {},
     "output_type": "execute_result"
    }
   ],
   "source": [
    "display_df[display_df['Review_ID']==198850214]"
   ]
  },
  {
   "cell_type": "code",
   "execution_count": 29,
   "metadata": {},
   "outputs": [
    {
     "data": {
      "text/plain": [
       "48"
      ]
     },
     "execution_count": 29,
     "metadata": {},
     "output_type": "execute_result"
    }
   ],
   "source": [
    "display_df['COUNT(*)'].sum()"
   ]
  },
  {
   "cell_type": "code",
   "execution_count": 28,
   "metadata": {},
   "outputs": [],
   "source": [
    "# Give reviews with Score>3 a positive rating, and reviews with a score<3 a negative rating.\n",
    "def partition(x):\n",
    "    if x < 3:\n",
    "        return 0\n",
    "    return 1"
   ]
  },
  {
   "cell_type": "markdown",
   "metadata": {},
   "source": [
    "#  Exploratory Data Analysis\n",
    "\n",
    "## [2] Data Preprocessing\n",
    "\n",
    "It is observed (as shown in the table below) that the reviews data had significant (~1%) duplicate entries. Hence, it is necessary to remove duplicates in order to get unbiased results for the analysis of the data.  Following is an example:"
   ]
  },
  {
   "cell_type": "code",
   "execution_count": 30,
   "metadata": {},
   "outputs": [
    {
     "data": {
      "text/html": [
       "<div>\n",
       "<style scoped>\n",
       "    .dataframe tbody tr th:only-of-type {\n",
       "        vertical-align: middle;\n",
       "    }\n",
       "\n",
       "    .dataframe tbody tr th {\n",
       "        vertical-align: top;\n",
       "    }\n",
       "\n",
       "    .dataframe thead th {\n",
       "        text-align: right;\n",
       "    }\n",
       "</style>\n",
       "<table border=\"1\" class=\"dataframe\">\n",
       "  <thead>\n",
       "    <tr style=\"text-align: right;\">\n",
       "      <th></th>\n",
       "      <th>Review_ID</th>\n",
       "      <th>Rating</th>\n",
       "      <th>Year_Month</th>\n",
       "      <th>Reviewer_Location</th>\n",
       "      <th>Review_Text</th>\n",
       "      <th>Branch</th>\n",
       "      <th>COUNT(*)</th>\n",
       "    </tr>\n",
       "  </thead>\n",
       "  <tbody>\n",
       "    <tr>\n",
       "      <th>0</th>\n",
       "      <td>198850214</td>\n",
       "      <td>4</td>\n",
       "      <td>2014-3</td>\n",
       "      <td>United States</td>\n",
       "      <td>3 day Military Hopper Pass; best deal around. ...</td>\n",
       "      <td>Disneyland_California</td>\n",
       "      <td>2</td>\n",
       "    </tr>\n",
       "    <tr>\n",
       "      <th>1</th>\n",
       "      <td>606997669</td>\n",
       "      <td>5</td>\n",
       "      <td>2018-8</td>\n",
       "      <td>France</td>\n",
       "      <td>ActiveX VT ERROR:</td>\n",
       "      <td>Disneyland_Paris</td>\n",
       "      <td>2</td>\n",
       "    </tr>\n",
       "    <tr>\n",
       "      <th>2</th>\n",
       "      <td>166784597</td>\n",
       "      <td>4</td>\n",
       "      <td>2013-5</td>\n",
       "      <td>United States</td>\n",
       "      <td>Disneyland  we love it!  The service is incomp...</td>\n",
       "      <td>Disneyland_California</td>\n",
       "      <td>2</td>\n",
       "    </tr>\n",
       "    <tr>\n",
       "      <th>3</th>\n",
       "      <td>226905150</td>\n",
       "      <td>5</td>\n",
       "      <td>2014-5</td>\n",
       "      <td>United States</td>\n",
       "      <td>Disneyland Paris is different then other Disne...</td>\n",
       "      <td>Disneyland_Paris</td>\n",
       "      <td>2</td>\n",
       "    </tr>\n",
       "    <tr>\n",
       "      <th>4</th>\n",
       "      <td>239871388</td>\n",
       "      <td>4</td>\n",
       "      <td>2014-10</td>\n",
       "      <td>Canada</td>\n",
       "      <td>Disneyland, Hong Kong Disneyland (Hong Kong) i...</td>\n",
       "      <td>Disneyland_HongKong</td>\n",
       "      <td>2</td>\n",
       "    </tr>\n",
       "  </tbody>\n",
       "</table>\n",
       "</div>"
      ],
      "text/plain": [
       "   Review_ID  Rating Year_Month Reviewer_Location  \\\n",
       "0  198850214       4     2014-3     United States   \n",
       "1  606997669       5     2018-8            France   \n",
       "2  166784597       4     2013-5     United States   \n",
       "3  226905150       5     2014-5     United States   \n",
       "4  239871388       4    2014-10            Canada   \n",
       "\n",
       "                                         Review_Text                 Branch  \\\n",
       "0  3 day Military Hopper Pass; best deal around. ...  Disneyland_California   \n",
       "1                                  ActiveX VT ERROR:       Disneyland_Paris   \n",
       "2  Disneyland  we love it!  The service is incomp...  Disneyland_California   \n",
       "3  Disneyland Paris is different then other Disne...       Disneyland_Paris   \n",
       "4  Disneyland, Hong Kong Disneyland (Hong Kong) i...    Disneyland_HongKong   \n",
       "\n",
       "   COUNT(*)  \n",
       "0         2  \n",
       "1         2  \n",
       "2         2  \n",
       "3         2  \n",
       "4         2  "
      ]
     },
     "execution_count": 30,
     "metadata": {},
     "output_type": "execute_result"
    }
   ],
   "source": [
    "display_df.head()"
   ]
  },
  {
   "cell_type": "markdown",
   "metadata": {},
   "source": [
    "As displayed above the same Reviewer_ID has multiple reviews of the with the same values for Rating, Year_MOnth, Reviewer_LOcation, Branch and Review_Text. On further analysis it was found that <br>\n",
    "<br> \n",
    "Review_text is exactly same for the duplicate reviews.\n",
    "\n",
    "It was inferred after analysis that reviews with same parameters. Therefore, it is imperative to reduce redundancy. Decided to eliminate the rows having same exact parameters to avoid bias.<br>\n",
    "\n",
    "The method used for the same was that we first sort the data according to Review_ID and then just keep the first similar Review_Text and drop redundant records from the dataframe. for eg. in the above just the review for Review_ID=198850214, first occurence remains. This method ensures that there is only one representative for each Review/Rating and deduplication without sorting would lead to possibility of different representatives still existing for the same product."
   ]
  },
  {
   "cell_type": "code",
   "execution_count": 31,
   "metadata": {},
   "outputs": [],
   "source": [
    "#Sorting data according to Review_ID in ascending order\n",
    "sorted_df=filtered_df.sort_values('Review_ID', axis=0, ascending=True, inplace=False, kind='mergesort', na_position='last')"
   ]
  },
  {
   "cell_type": "code",
   "execution_count": 32,
   "metadata": {},
   "outputs": [
    {
     "data": {
      "text/plain": [
       "(19993, 6)"
      ]
     },
     "execution_count": 32,
     "metadata": {},
     "output_type": "execute_result"
    }
   ],
   "source": [
    "#Deduplication of entries\n",
    "final_df=sorted_df.drop_duplicates(subset={\"Review_ID\",\"Year_Month\",\"Reviewer_Location\",\"Review_Text\",\"Branch\"}, keep='first', inplace=False)\n",
    "final_df.shape"
   ]
  },
  {
   "cell_type": "code",
   "execution_count": 34,
   "metadata": {},
   "outputs": [
    {
     "data": {
      "text/plain": [
       "100.0"
      ]
     },
     "execution_count": 34,
     "metadata": {},
     "output_type": "execute_result"
    }
   ],
   "source": [
    "#Calculate % of data still remains post deduplication\n",
    "(final_df['Review_ID'].size*1.0)/(final_df['Review_ID'].size*1.0)*100"
   ]
  },
  {
   "cell_type": "code",
   "execution_count": 38,
   "metadata": {},
   "outputs": [
    {
     "name": "stdout",
     "output_type": "stream",
     "text": [
      "(19993, 6)\n"
     ]
    },
    {
     "data": {
      "text/plain": [
       "1    18586\n",
       "0     1407\n",
       "Name: Rating, dtype: int64"
      ]
     },
     "execution_count": 38,
     "metadata": {},
     "output_type": "execute_result"
    }
   ],
   "source": [
    "#Get the dataframe shape, before starting the Text-preprocessing phase\n",
    "print(final_df.shape)\n",
    "\n",
    "#Check number of positive and negative reviews are present in our dataset?\n",
    "final_df['Rating'].value_counts()\n"
   ]
  },
  {
   "cell_type": "markdown",
   "metadata": {},
   "source": [
    "Observation : Deduplication (Perhaps, Original) dataset is imbalanced with more than ~92% of records are positive reviews"
   ]
  },
  {
   "cell_type": "markdown",
   "metadata": {},
   "source": [
    "# [3].  Text Preprocessing.\n",
    "\n",
    "Now that dataframe deduplication of DisneyLand Reviews data requires some preprocessing before we could perform additional analysis and build prediction model.\n",
    "\n",
    "Hence in the Preprocessing phase we do the following in the order below:-\n",
    "\n",
    "1. Begin by removing the html tags\n",
    "2. Remove any punctuations or limited set of special characters like , or . or # etc.\n",
    "3. Check if the word is made up of english letters and is not alpha-numeric\n",
    "4. Check to see if the length of the word is greater than 2 (as it was researched that there is no adjective in 2-letters)\n",
    "5. Convert the word to lowercase\n",
    "6. Remove Stopwords\n",
    "7. Finally Snowball Stemming the word (it was obsereved to be better than Porter Stemming)<br>\n",
    "\n",
    "After which we collect the words used to describe positive and negative reviews"
   ]
  },
  {
   "cell_type": "code",
   "execution_count": 43,
   "metadata": {},
   "outputs": [
    {
     "name": "stdout",
     "output_type": "stream",
     "text": [
      "Obviously I haven't visited Hong Kong Disneyland myself, but it doesn't take a genius to deduce from the final attractions list that this ISN'T the Disneyland we all know and love. This park is distinctly lacking in attractions... and lands.There are only 4 actual moving rides: The Jungle Cruise (slow moving boat ride), The Many Adventures of Winnie The Pooh (slow moving dark ride), Buzz Lightyear's Astro Blasters (slow moving dark ride), and Space Mountain (high speed family coaster). So, not much to do for those craving excitement or thrills.There is no Pirates of the Carribean, no Big Thunder Mountain, no Haunted Mansion, no Indiana Jones Adventure, no Splash Mountain, no Peter Pan's Flight, no It's A Small World, no Star Tours, and no Autopia. Yes, you will find none of these attractions in Hong Kong Disneyland.There's also no Frontierland. What? Yes, Frontierland has been completely obliterated from the park, leaving only 4 lands: Main Street USA, Adventureland, Fantasyland and Tomorrowland. Great.\n",
      "****************************************************************************************************\n",
      "I went here with a friend last month and had a laugh, its a bit of a journey on the mtr, but worth it. there's a special Disney themed train from sunny bay to the park, which is nicely decorated. The admission is cheap, about   35, and the park is small so you don't spend most of your time wandering around, and the longest we ever had to wait for a ride was 15 minutes, all in all a good day out x\n",
      "****************************************************************************************************\n",
      "The Disney land has been made beautifully and divided into simple zones to enjoy the full day. Variety of rides and attractions are available for all age groups and the place is artistically made. Several restaurants are all around the park and serve varieties of cuisine to suit everyone's tastes and preferences. Great place to go with kids and family.\n",
      "****************************************************************************************************\n",
      "In spite of the rain, we had a wonderful time. It really is the happy place! Bring your own rain gear and save some money. We enjoyed a mid afternoon lunch as we waited for and then watched the Main Street parade. The light show was spectacular and well worth staying for although it was a bit too loud for my ears and so I had to turn down my hearing aids. Be sure to use very good and comfortable walking shoes that are also water resistant.\n",
      "****************************************************************************************************\n"
     ]
    }
   ],
   "source": [
    "# printing some random reviews\n",
    "review_0 = final_df['Review_Text'].values[0]\n",
    "print(sent_0)\n",
    "print(\"*\"*100)\n",
    "\n",
    "review_1900 = final_df['Review_Text'].values[1900]\n",
    "print(review_1900)\n",
    "print(\"*\"*100)\n",
    "\n",
    "review_12900 = final_df['Review_Text'].values[12900]\n",
    "print(review_12900)\n",
    "print(\"*\"*100)\n",
    "\n",
    "review_19900 = final_df['Review_Text'].values[19900]\n",
    "print(review_19900)\n",
    "print(\"*\"*100)"
   ]
  },
  {
   "cell_type": "code",
   "execution_count": 48,
   "metadata": {},
   "outputs": [
    {
     "name": "stdout",
     "output_type": "stream",
     "text": [
      "I am in the senior age range and I still think there is no place like it. I go every year and it is always new. We do the 2 day hopper . I was not able to do a lot of walking this time but all the staff were so kind and helpfull. Roll on next time\n"
     ]
    }
   ],
   "source": [
    "# remove urls from text python: https://stackoverflow.com/a/40823105/4084039\n",
    "review_8219 = final_df['Review_Text'].values[8219]\n",
    "review_8219 = re.sub(r\"http\\S+\", \"\", review_8219)\n",
    "\n",
    "\n",
    "print(review_8219)"
   ]
  },
  {
   "cell_type": "code",
   "execution_count": 62,
   "metadata": {},
   "outputs": [
    {
     "data": {
      "text/plain": [
       "0"
      ]
     },
     "execution_count": 62,
     "metadata": {},
     "output_type": "execute_result"
    }
   ],
   "source": [
    "# check for html tags in a text column using python/BeautifulSoup : https://stackoverflow.com/questions/24856035/how-to-detect-with-python-if-the-string-contains-html-code\n",
    "final_df[final_df['Review_Text'].str.contains(\"<\")==True].Review_Text.count()"
   ]
  },
  {
   "cell_type": "code",
   "execution_count": 63,
   "metadata": {},
   "outputs": [
    {
     "data": {
      "text/plain": [
       "19993"
      ]
     },
     "execution_count": 63,
     "metadata": {},
     "output_type": "execute_result"
    }
   ],
   "source": [
    "#check for punctuations/Special characters (ie '.',',' & '#')\n",
    "final_df[final_df['Review_Text'].str.contains(\".|,|#\")==True].Review_Text.count()"
   ]
  },
  {
   "cell_type": "code",
   "execution_count": 46,
   "metadata": {},
   "outputs": [
    {
     "data": {
      "text/html": [
       "<div>\n",
       "<style scoped>\n",
       "    .dataframe tbody tr th:only-of-type {\n",
       "        vertical-align: middle;\n",
       "    }\n",
       "\n",
       "    .dataframe tbody tr th {\n",
       "        vertical-align: top;\n",
       "    }\n",
       "\n",
       "    .dataframe thead th {\n",
       "        text-align: right;\n",
       "    }\n",
       "</style>\n",
       "<table border=\"1\" class=\"dataframe\">\n",
       "  <thead>\n",
       "    <tr style=\"text-align: right;\">\n",
       "      <th></th>\n",
       "      <th>Review_Text</th>\n",
       "    </tr>\n",
       "  </thead>\n",
       "  <tbody>\n",
       "    <tr>\n",
       "      <th>8219</th>\n",
       "      <td>Hi All,Planning for a trip to Hong Kong Disney...</td>\n",
       "    </tr>\n",
       "    <tr>\n",
       "      <th>8045</th>\n",
       "      <td>Hong Kong Disneyland was a huge surprise to me...</td>\n",
       "    </tr>\n",
       "    <tr>\n",
       "      <th>6944</th>\n",
       "      <td>We visited on a Monday and again on a Sunday. ...</td>\n",
       "    </tr>\n",
       "    <tr>\n",
       "      <th>19958</th>\n",
       "      <td>We just visited Disneyland and picked a  dead ...</td>\n",
       "    </tr>\n",
       "    <tr>\n",
       "      <th>19653</th>\n",
       "      <td>I grew up near Disneyland. Yes, I have been th...</td>\n",
       "    </tr>\n",
       "    <tr>\n",
       "      <th>6219</th>\n",
       "      <td>We thoroughly enjoyed our 2 days at Disneyland...</td>\n",
       "    </tr>\n",
       "    <tr>\n",
       "      <th>19459</th>\n",
       "      <td>We just got back from our first trip to Disney...</td>\n",
       "    </tr>\n",
       "    <tr>\n",
       "      <th>18772</th>\n",
       "      <td>I don't care how old I get, Disneyland will al...</td>\n",
       "    </tr>\n",
       "    <tr>\n",
       "      <th>5910</th>\n",
       "      <td>I had gone with my 2.5 year old with slight ap...</td>\n",
       "    </tr>\n",
       "    <tr>\n",
       "      <th>5877</th>\n",
       "      <td>Some of the reviews for Disneyland talk about ...</td>\n",
       "    </tr>\n",
       "    <tr>\n",
       "      <th>5816</th>\n",
       "      <td>*) We bought our tickets for Disneyland from t...</td>\n",
       "    </tr>\n",
       "    <tr>\n",
       "      <th>18018</th>\n",
       "      <td>We are Disney fans! Indeed our bucket list was...</td>\n",
       "    </tr>\n",
       "    <tr>\n",
       "      <th>5639</th>\n",
       "      <td>This is the 2nd time we visited Hong Kong Disn...</td>\n",
       "    </tr>\n",
       "    <tr>\n",
       "      <th>5561</th>\n",
       "      <td>With two exclusive lands, Grizzly Gulch and My...</td>\n",
       "    </tr>\n",
       "    <tr>\n",
       "      <th>17398</th>\n",
       "      <td>I have been travelling to Disneyland for a lon...</td>\n",
       "    </tr>\n",
       "    <tr>\n",
       "      <th>5334</th>\n",
       "      <td>HK Disneyland is well known to be the smallest...</td>\n",
       "    </tr>\n",
       "    <tr>\n",
       "      <th>17100</th>\n",
       "      <td>I just ended a weekend visit to the Disneyland...</td>\n",
       "    </tr>\n",
       "    <tr>\n",
       "      <th>5271</th>\n",
       "      <td>Fun &amp; Exciting experience. Best for all Ages. ...</td>\n",
       "    </tr>\n",
       "    <tr>\n",
       "      <th>16558</th>\n",
       "      <td>My wife, I and 8 year daughter visited on a We...</td>\n",
       "    </tr>\n",
       "    <tr>\n",
       "      <th>16527</th>\n",
       "      <td>HERE IS HOW TO HAVE A STRESS FREE TIME AT DISN...</td>\n",
       "    </tr>\n",
       "    <tr>\n",
       "      <th>15967</th>\n",
       "      <td>Unbelievable experience   here are our tips to...</td>\n",
       "    </tr>\n",
       "    <tr>\n",
       "      <th>15601</th>\n",
       "      <td>Apps and Websites for planning your visit: The...</td>\n",
       "    </tr>\n",
       "  </tbody>\n",
       "</table>\n",
       "</div>"
      ],
      "text/plain": [
       "                                             Review_Text\n",
       "8219   Hi All,Planning for a trip to Hong Kong Disney...\n",
       "8045   Hong Kong Disneyland was a huge surprise to me...\n",
       "6944   We visited on a Monday and again on a Sunday. ...\n",
       "19958  We just visited Disneyland and picked a  dead ...\n",
       "19653  I grew up near Disneyland. Yes, I have been th...\n",
       "6219   We thoroughly enjoyed our 2 days at Disneyland...\n",
       "19459  We just got back from our first trip to Disney...\n",
       "18772  I don't care how old I get, Disneyland will al...\n",
       "5910   I had gone with my 2.5 year old with slight ap...\n",
       "5877   Some of the reviews for Disneyland talk about ...\n",
       "5816   *) We bought our tickets for Disneyland from t...\n",
       "18018  We are Disney fans! Indeed our bucket list was...\n",
       "5639   This is the 2nd time we visited Hong Kong Disn...\n",
       "5561   With two exclusive lands, Grizzly Gulch and My...\n",
       "17398  I have been travelling to Disneyland for a lon...\n",
       "5334   HK Disneyland is well known to be the smallest...\n",
       "17100  I just ended a weekend visit to the Disneyland...\n",
       "5271   Fun & Exciting experience. Best for all Ages. ...\n",
       "16558  My wife, I and 8 year daughter visited on a We...\n",
       "16527  HERE IS HOW TO HAVE A STRESS FREE TIME AT DISN...\n",
       "15967  Unbelievable experience   here are our tips to...\n",
       "15601  Apps and Websites for planning your visit: The..."
      ]
     },
     "execution_count": 46,
     "metadata": {},
     "output_type": "execute_result"
    }
   ],
   "source": [
    "final_df[['Review_Text']].query('Review_Text.str.contains(\"http\")', engine='python')"
   ]
  },
  {
   "cell_type": "markdown",
   "metadata": {},
   "source": [
    "Observation : Review_Text field does not consist of any html tags, however, this field does have punctuation/special chars and "
   ]
  },
  {
   "cell_type": "code",
   "execution_count": 64,
   "metadata": {},
   "outputs": [],
   "source": [
    "# Removal of contracted words reference : https://stackoverflow.com/a/47091490/4084039\n",
    "import re\n",
    "\n",
    "def decontracted(phrase):\n",
    "    # specific\n",
    "    phrase = re.sub(r\"won't\", \"will not\", phrase)\n",
    "    phrase = re.sub(r\"can\\'t\", \"can not\", phrase)\n",
    "\n",
    "    # general\n",
    "    phrase = re.sub(r\"n\\'t\", \" not\", phrase)\n",
    "    phrase = re.sub(r\"\\'re\", \" are\", phrase)\n",
    "    phrase = re.sub(r\"\\'s\", \" is\", phrase)\n",
    "    phrase = re.sub(r\"\\'d\", \" would\", phrase)\n",
    "    phrase = re.sub(r\"\\'ll\", \" will\", phrase)\n",
    "    phrase = re.sub(r\"\\'t\", \" not\", phrase)\n",
    "    phrase = re.sub(r\"\\'ve\", \" have\", phrase)\n",
    "    phrase = re.sub(r\"\\'m\", \" am\", phrase)\n",
    "    return phrase"
   ]
  },
  {
   "cell_type": "code",
   "execution_count": 66,
   "metadata": {},
   "outputs": [
    {
     "data": {
      "text/plain": [
       "8254    Obviously I haven't visited Hong Kong Disneyla...\n",
       "8252    Visited Hong Kong Disneyland on the 28th Septe...\n",
       "8249    I went there on a weekday. It wasn't that crow...\n",
       "8248    We were there 1st and 2nd of November 2005. It...\n",
       "8247    Hong Kong Disneyland is indeed very small, but...\n",
       "8244    Husband, daughter and self visited on 23rd Nov...\n",
       "8243    What a waste of time and money. And to think I...\n",
       "8242    We visited Hong Kong Disneyland on 28 February...\n",
       "8241    I took my 11 yr old daughter to Disneyland HK ...\n",
       "8234    I visited the park with my 2 children ages 7 a...\n",
       "8233    Many people seem to compare DLHK with its sist...\n",
       "8232    I visited HK Disney quite a while ago (Jan 200...\n",
       "8230    My family has been going to Disney parks since...\n",
       "8228    Having read so much bad publicity I was expect...\n",
       "8227    II went there with a friend and our two 3 year...\n",
       "8226    After reading so many bad reviews about HK Dis...\n",
       "8225    Disneyland Hong Kong. We have been twice thus ...\n",
       "8224    Having read all the bad reviews, I went there ...\n",
       "8223    I went to HK Disneyland on 2 Nov (Thu) with 2 ...\n",
       "8219    Hi All,Planning for a trip to Hong Kong Disney...\n",
       "8218    We started the experience on the Sunny Bay lin...\n",
       "8212    After reading many differing reviews we decide...\n",
       "8204    Hong Kong Disneyland is a great place to visit...\n",
       "8201    I spent one day at Hong Kong Disney land which...\n",
       "8200    Having been to Disney World in Florida 25  tim...\n",
       "8198    I went to Hong Kong Disneyland on Saturday, 28...\n",
       "8197    Couldn't believe the Chinese could pull this o...\n",
       "8196    We had a fantastic two days at Hong Kong Disne...\n",
       "8195    I don't know why we came here really. I guess ...\n",
       "8194    This was our first Disneyland experience and o...\n",
       "                              ...                        \n",
       "106     Came here 1 day after Chinese New Year, it was...\n",
       "105     I really loved Disneyland! The two must rides ...\n",
       "102     I've seen many negative posts and comments on ...\n",
       "8360    The maxpass, disneyapp and smartphone are esse...\n",
       "8358    so much fun , my son loved every minute there ...\n",
       "8352    I had some very fond memories of Disneyland fr...\n",
       "87      Even though it is smaller, there is great ride...\n",
       "8328    We had a great time at Disneyland. It was nice...\n",
       "8327    I love this place. Took our grandkids there an...\n",
       "8324    This was our second visit here, the first bein...\n",
       "8317    Had a good time at the park. The park has many...\n",
       "8316    disneyland is the happiest place on earth. It ...\n",
       "60      It's my second time here but it's my daughter'...\n",
       "8309    After several visits to Disney World in Florid...\n",
       "8301    I just went back for the first time in 18 year...\n",
       "41      It was very essay to go from the city to Disne...\n",
       "39      I love Disney, I even worked at Disney World i...\n",
       "8291    I took my four year old son to Disneyland two ...\n",
       "33      A super small but cute Disney park   if you're...\n",
       "8285    Had a fun couple of days :) FastPass was so wo...\n",
       "31      It's always going to be fun at Disneyland. The...\n",
       "8284    The original is the best, and taking my kids g...\n",
       "8283    To all who comes to this happy place, welcome....\n",
       "29      HKDL got different event for different period....\n",
       "27      Hong Kong is easy to get to via the MTR from K...\n",
       "24      We have been to Disneyland in LA two times, an...\n",
       "8270    Last time I was there was for Grad night in 19...\n",
       "8265    The last time I was here, the area Disney's Ca...\n",
       "8258    Having been to the Florida location numerous t...\n",
       "5       Great place! Your day will go by and you won't...\n",
       "Name: Review_Text, Length: 5878, dtype: object"
      ]
     },
     "execution_count": 66,
     "metadata": {},
     "output_type": "execute_result"
    }
   ],
   "source": [
    "final_df[final_df['Review_Text'].str.contains(\"'t\")==True].Review_Text"
   ]
  },
  {
   "cell_type": "code",
   "execution_count": null,
   "metadata": {},
   "outputs": [],
   "source": []
  }
 ],
 "metadata": {
  "kernelspec": {
   "display_name": "Python 3",
   "language": "python",
   "name": "python3"
  },
  "language_info": {
   "codemirror_mode": {
    "name": "ipython",
    "version": 3
   },
   "file_extension": ".py",
   "mimetype": "text/x-python",
   "name": "python",
   "nbconvert_exporter": "python",
   "pygments_lexer": "ipython3",
   "version": "3.7.3"
  }
 },
 "nbformat": 4,
 "nbformat_minor": 2
}
