{
  "nbformat": 4,
  "nbformat_minor": 0,
  "metadata": {
    "colab": {
      "name": "ImageAnalysis.ipynb",
      "provenance": [],
      "machine_shape": "hm",
      "authorship_tag": "ABX9TyNX/W84yuvk212nj1YlZjgv",
      "include_colab_link": true
    },
    "kernelspec": {
      "name": "python3",
      "display_name": "Python 3"
    },
    "language_info": {
      "name": "python"
    },
    "accelerator": "GPU"
  },
  "cells": [
    {
      "cell_type": "markdown",
      "metadata": {
        "id": "view-in-github",
        "colab_type": "text"
      },
      "source": [
        "<a href=\"https://colab.research.google.com/github/Surendra-Kotte/MachineLearning/blob/main/ImageAnalysis.ipynb\" target=\"_parent\"><img src=\"https://colab.research.google.com/assets/colab-badge.svg\" alt=\"Open In Colab\"/></a>"
      ]
    },
    {
      "cell_type": "code",
      "metadata": {
        "colab": {
          "base_uri": "https://localhost:8080/"
        },
        "id": "k6KuweNWIUk4",
        "outputId": "f0dfaa67-dad7-41ee-e209-8298fbe4a92e"
      },
      "source": [
        "!pip3 install dicom"
      ],
      "execution_count": 5,
      "outputs": [
        {
          "output_type": "stream",
          "text": [
            "Collecting dicom\n",
            "\u001b[?25l  Downloading https://files.pythonhosted.org/packages/6c/0e/488becc361f1416f6682a9b9c223eb6a9db2d5d093fb46ea91c762eb6e4a/dicom-0.9.9.post1-py3-none-any.whl (766kB)\n",
            "\u001b[K     |████████████████████████████████| 768kB 2.9MB/s \n",
            "\u001b[?25hInstalling collected packages: dicom\n",
            "Successfully installed dicom-0.9.9.post1\n"
          ],
          "name": "stdout"
        }
      ]
    },
    {
      "cell_type": "code",
      "metadata": {
        "colab": {
          "base_uri": "https://localhost:8080/"
        },
        "id": "3Z3nlVu3IiYk",
        "outputId": "d6d63e96-3d4c-4f93-e59b-a5a257d0dc7f"
      },
      "source": [
        "from google.colab import drive\n",
        "drive.mount('/content/gdrive')"
      ],
      "execution_count": 6,
      "outputs": [
        {
          "output_type": "stream",
          "text": [
            "Mounted at /content/gdrive\n"
          ],
          "name": "stdout"
        }
      ]
    },
    {
      "cell_type": "code",
      "metadata": {
        "id": "sblBHJfeqGGd"
      },
      "source": [
        "%matplotlib inline\n",
        "\n",
        "import numpy as np # linear algebra\n",
        "import pandas as pd # data processing, CSV file I/O (e.g. pd.read_csv)\n",
        "import dicom\n",
        "import os\n",
        "import scipy.ndimage\n",
        "import matplotlib.pyplot as plt\n",
        "\n",
        "from skimage import measure, morphology\n",
        "from mpl_toolkits.mplot3d.art3d import Poly3DCollection\n",
        "\n",
        "# Some constants \n",
        "INPUT_FOLDER = '/content/gdrive/My Drive/Competitions/Kaggle/siim-covid19-detection/DataSets/train/'\n",
        "patients = os.listdir(INPUT_FOLDER)\n",
        "patients.sort()"
      ],
      "execution_count": 34,
      "outputs": []
    },
    {
      "cell_type": "code",
      "metadata": {
        "id": "XBdJip4E_p-n"
      },
      "source": [
        "# Load the scans in given folder path\n",
        "def load_scan(path):\n",
        "    slices = [dicom.read_file(path + '/' + s  ) for s in os.listdir(path)]\n",
        "    slices.sort(key = lambda x: float(x.ImagePositionPatient[2]))\n",
        "    try:\n",
        "        slice_thickness = np.abs(slices[0].ImagePositionPatient[2] - slices[1].ImagePositionPatient[2])\n",
        "    except:\n",
        "        slice_thickness = np.abs(slices[0].SliceLocation - slices[1].SliceLocation)\n",
        "        \n",
        "    for s in slices:\n",
        "        s.SliceThickness = slice_thickness\n",
        "        \n",
        "    return slices"
      ],
      "execution_count": 35,
      "outputs": []
    },
    {
      "cell_type": "code",
      "metadata": {
        "id": "lhyGS7Mi-ddl"
      },
      "source": [
        "def get_pixels_hu(slices):\n",
        "    image = np.stack([s.pixel_array for s in slices])\n",
        "    # Convert to int16 (from sometimes int16), \n",
        "    # should be possible as values should always be low enough (<32k)\n",
        "    image = image.astype(np.int16)\n",
        "\n",
        "    # Set outside-of-scan pixels to 0\n",
        "    # The intercept is usually -1024, so air is approximately 0\n",
        "    image[image == -2000] = 0\n",
        "    \n",
        "    # Convert to Hounsfield units (HU)\n",
        "    for slice_number in range(len(slices)):\n",
        "        \n",
        "        intercept = slices[slice_number].RescaleIntercept\n",
        "        slope = slices[slice_number].RescaleSlope\n",
        "        \n",
        "        if slope != 1:\n",
        "            image[slice_number] = slope * image[slice_number].astype(np.float64)\n",
        "            image[slice_number] = image[slice_number].astype(np.int16)\n",
        "            \n",
        "        image[slice_number] += np.int16(intercept)\n",
        "    \n",
        "    return np.array(image, dtype=np.int16)"
      ],
      "execution_count": 29,
      "outputs": []
    },
    {
      "cell_type": "code",
      "metadata": {
        "colab": {
          "base_uri": "https://localhost:8080/",
          "height": 363
        },
        "id": "kDgye95ZBgsn",
        "outputId": "d5eeb7b6-614e-4ce9-c822-f793d1d04250"
      },
      "source": [
        "first_patient = load_scan(INPUT_FOLDER + patients[0])\n",
        "first_patient_pixels = get_pixels_hu(first_patient)\n",
        "plt.hist(first_patient_pixels.flatten(), bins=80, color='c')\n",
        "plt.xlabel(\"Hounsfield Units (HU)\")\n",
        "plt.ylabel(\"Frequency\")\n",
        "plt.show()"
      ],
      "execution_count": 33,
      "outputs": [
        {
          "output_type": "error",
          "ename": "NotADirectoryError",
          "evalue": "ignored",
          "traceback": [
            "\u001b[0;31m---------------------------------------------------------------------------\u001b[0m",
            "\u001b[0;31mNotADirectoryError\u001b[0m                        Traceback (most recent call last)",
            "\u001b[0;32m<ipython-input-33-34f865908581>\u001b[0m in \u001b[0;36m<module>\u001b[0;34m()\u001b[0m\n\u001b[0;32m----> 1\u001b[0;31m \u001b[0mfirst_patient\u001b[0m \u001b[0;34m=\u001b[0m \u001b[0mload_scan\u001b[0m\u001b[0;34m(\u001b[0m\u001b[0mINPUT_FOLDER\u001b[0m \u001b[0;34m+\u001b[0m \u001b[0mpatients\u001b[0m\u001b[0;34m[\u001b[0m\u001b[0;36m0\u001b[0m\u001b[0;34m]\u001b[0m\u001b[0;34m)\u001b[0m\u001b[0;34m\u001b[0m\u001b[0;34m\u001b[0m\u001b[0m\n\u001b[0m\u001b[1;32m      2\u001b[0m \u001b[0mfirst_patient_pixels\u001b[0m \u001b[0;34m=\u001b[0m \u001b[0mget_pixels_hu\u001b[0m\u001b[0;34m(\u001b[0m\u001b[0mfirst_patient\u001b[0m\u001b[0;34m)\u001b[0m\u001b[0;34m\u001b[0m\u001b[0;34m\u001b[0m\u001b[0m\n\u001b[1;32m      3\u001b[0m \u001b[0mplt\u001b[0m\u001b[0;34m.\u001b[0m\u001b[0mhist\u001b[0m\u001b[0;34m(\u001b[0m\u001b[0mfirst_patient_pixels\u001b[0m\u001b[0;34m.\u001b[0m\u001b[0mflatten\u001b[0m\u001b[0;34m(\u001b[0m\u001b[0;34m)\u001b[0m\u001b[0;34m,\u001b[0m \u001b[0mbins\u001b[0m\u001b[0;34m=\u001b[0m\u001b[0;36m80\u001b[0m\u001b[0;34m,\u001b[0m \u001b[0mcolor\u001b[0m\u001b[0;34m=\u001b[0m\u001b[0;34m'c'\u001b[0m\u001b[0;34m)\u001b[0m\u001b[0;34m\u001b[0m\u001b[0;34m\u001b[0m\u001b[0m\n\u001b[1;32m      4\u001b[0m \u001b[0mplt\u001b[0m\u001b[0;34m.\u001b[0m\u001b[0mxlabel\u001b[0m\u001b[0;34m(\u001b[0m\u001b[0;34m\"Hounsfield Units (HU)\"\u001b[0m\u001b[0;34m)\u001b[0m\u001b[0;34m\u001b[0m\u001b[0;34m\u001b[0m\u001b[0m\n\u001b[1;32m      5\u001b[0m \u001b[0mplt\u001b[0m\u001b[0;34m.\u001b[0m\u001b[0mylabel\u001b[0m\u001b[0;34m(\u001b[0m\u001b[0;34m\"Frequency\"\u001b[0m\u001b[0;34m)\u001b[0m\u001b[0;34m\u001b[0m\u001b[0;34m\u001b[0m\u001b[0m\n",
            "\u001b[0;32m<ipython-input-32-3454d2ca0a18>\u001b[0m in \u001b[0;36mload_scan\u001b[0;34m(path)\u001b[0m\n\u001b[1;32m      1\u001b[0m \u001b[0;31m# Load the scans in given folder path\u001b[0m\u001b[0;34m\u001b[0m\u001b[0;34m\u001b[0m\u001b[0;34m\u001b[0m\u001b[0m\n\u001b[1;32m      2\u001b[0m \u001b[0;32mdef\u001b[0m \u001b[0mload_scan\u001b[0m\u001b[0;34m(\u001b[0m\u001b[0mpath\u001b[0m\u001b[0;34m)\u001b[0m\u001b[0;34m:\u001b[0m\u001b[0;34m\u001b[0m\u001b[0;34m\u001b[0m\u001b[0m\n\u001b[0;32m----> 3\u001b[0;31m     \u001b[0mslices\u001b[0m \u001b[0;34m=\u001b[0m \u001b[0;34m[\u001b[0m\u001b[0mdicom\u001b[0m\u001b[0;34m.\u001b[0m\u001b[0mread_file\u001b[0m\u001b[0;34m(\u001b[0m\u001b[0mpath\u001b[0m \u001b[0;34m+\u001b[0m \u001b[0;34m'/'\u001b[0m \u001b[0;34m+\u001b[0m \u001b[0ms\u001b[0m  \u001b[0;34m)\u001b[0m \u001b[0;32mfor\u001b[0m \u001b[0ms\u001b[0m \u001b[0;32min\u001b[0m \u001b[0mos\u001b[0m\u001b[0;34m.\u001b[0m\u001b[0mlistdir\u001b[0m\u001b[0;34m(\u001b[0m\u001b[0mpath\u001b[0m\u001b[0;34m)\u001b[0m\u001b[0;34m]\u001b[0m\u001b[0;34m\u001b[0m\u001b[0;34m\u001b[0m\u001b[0m\n\u001b[0m\u001b[1;32m      4\u001b[0m     \u001b[0mslices\u001b[0m\u001b[0;34m.\u001b[0m\u001b[0msort\u001b[0m\u001b[0;34m(\u001b[0m\u001b[0mkey\u001b[0m \u001b[0;34m=\u001b[0m \u001b[0;32mlambda\u001b[0m \u001b[0mx\u001b[0m\u001b[0;34m:\u001b[0m \u001b[0mfloat\u001b[0m\u001b[0;34m(\u001b[0m\u001b[0mx\u001b[0m\u001b[0;34m.\u001b[0m\u001b[0mImagePositionPatient\u001b[0m\u001b[0;34m[\u001b[0m\u001b[0;36m2\u001b[0m\u001b[0;34m]\u001b[0m\u001b[0;34m)\u001b[0m\u001b[0;34m)\u001b[0m\u001b[0;34m\u001b[0m\u001b[0;34m\u001b[0m\u001b[0m\n\u001b[1;32m      5\u001b[0m     \u001b[0;32mtry\u001b[0m\u001b[0;34m:\u001b[0m\u001b[0;34m\u001b[0m\u001b[0;34m\u001b[0m\u001b[0m\n",
            "\u001b[0;31mNotADirectoryError\u001b[0m: [Errno 20] Not a directory: '/content/gdrive/My Drive/Competitions/Kaggle/siim-covid19-detection/DataSets/train/../sample_submission.csv'"
          ]
        }
      ]
    },
    {
      "cell_type": "code",
      "metadata": {
        "id": "o4SZlvIYWmju"
      },
      "source": [
        "for subdir, dirs, files in os.walk(rootdir):\n",
        "    for file in files:\n",
        "        print(os.path.join(subdir, file))\n",
        "\n",
        "\n",
        "def load_scan(path):\n",
        "    slices = [dicom.read_file(path + '/' + s + '/' ) for s in os.listdir(path)]\n",
        "    slices.sort(key = lambda x: float(x.ImagePositionPatient[2]))\n",
        "    try:\n",
        "        slice_thickness = np.abs(slices[0].ImagePositionPatient[2] - slices[1].ImagePositionPatient[2])\n",
        "    except:\n",
        "        slice_thickness = np.abs(slices[0].SliceLocation - slices[1].SliceLocation)\n",
        "        \n",
        "    for s in slices:\n",
        "        s.SliceThickness = slice_thickness\n",
        "        \n",
        "    return slices"
      ],
      "execution_count": null,
      "outputs": []
    }
  ]
}