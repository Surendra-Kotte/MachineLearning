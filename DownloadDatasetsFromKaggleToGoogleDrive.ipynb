{
  "nbformat": 4,
  "nbformat_minor": 0,
  "metadata": {
    "colab": {
      "name": "DownloadDatasets.ipynb",
      "provenance": [],
      "collapsed_sections": [],
      "authorship_tag": "ABX9TyPs9xheng+emJCb2KZ1YhHM",
      "include_colab_link": true
    },
    "kernelspec": {
      "name": "python3",
      "display_name": "Python 3"
    },
    "language_info": {
      "name": "python"
    }
  },
  "cells": [
    {
      "cell_type": "markdown",
      "metadata": {
        "id": "view-in-github",
        "colab_type": "text"
      },
      "source": [
        "<a href=\"https://colab.research.google.com/github/Surendra-Kotte/MachineLearning/blob/main/DownloadDatasetsFromKaggleToGoogleDrive.ipynb\" target=\"_parent\"><img src=\"https://colab.research.google.com/assets/colab-badge.svg\" alt=\"Open In Colab\"/></a>"
      ]
    },
    {
      "cell_type": "code",
      "metadata": {
        "colab": {
          "base_uri": "https://localhost:8080/"
        },
        "id": "hcgOKo6osXOv",
        "outputId": "3bab0871-c853-46fd-cc56-99d6c4e6d65b"
      },
      "source": [
        "from google.colab import drive\n",
        "drive.mount('/content/gdrive')"
      ],
      "execution_count": 27,
      "outputs": [
        {
          "output_type": "stream",
          "text": [
            "Drive already mounted at /content/gdrive; to attempt to forcibly remount, call drive.mount(\"/content/gdrive\", force_remount=True).\n"
          ],
          "name": "stdout"
        }
      ]
    },
    {
      "cell_type": "code",
      "metadata": {
        "colab": {
          "base_uri": "https://localhost:8080/"
        },
        "id": "p0jClp0lQTdy",
        "outputId": "ad805c49-1837-4968-97bc-077f83c6478a"
      },
      "source": [
        "!pip uninstall -y kaggle\n",
        "!pip install --upgrade pip\n",
        "!pip install kaggle==1.5.6"
      ],
      "execution_count": 20,
      "outputs": [
        {
          "output_type": "stream",
          "text": [
            "shell-init: error retrieving current directory: getcwd: cannot access parent directories: No such file or directory\n",
            "The folder you are executing pip from can no longer be found.\n",
            "shell-init: error retrieving current directory: getcwd: cannot access parent directories: No such file or directory\n",
            "The folder you are executing pip from can no longer be found.\n",
            "shell-init: error retrieving current directory: getcwd: cannot access parent directories: No such file or directory\n",
            "The folder you are executing pip from can no longer be found.\n"
          ],
          "name": "stdout"
        }
      ]
    },
    {
      "cell_type": "code",
      "metadata": {
        "id": "zj32HOTRLCuL"
      },
      "source": [
        "import os\n",
        "os.environ['KAGGLE_CONFIG_DIR'] = \"/content/gdrive/My Drive/Competitions/Kaggle/siim-covid19-detection/\"\n",
        "# /content/gdrive/My Drive/Kaggle is the path where kaggle.json is present in the Google Drive"
      ],
      "execution_count": 25,
      "outputs": []
    },
    {
      "cell_type": "code",
      "metadata": {
        "colab": {
          "base_uri": "https://localhost:8080/",
          "height": 932
        },
        "id": "4xVidJJ9MfAU",
        "outputId": "3cfd6946-cfb0-45eb-de4e-885aa03cafe8"
      },
      "source": [
        "#changing the working directory\n",
        "%cd /content/gdrive/My Drive/Competitions/Kaggle/siim-covid19-detection/DataSets/"
      ],
      "execution_count": 28,
      "outputs": [
        {
          "output_type": "stream",
          "text": [
            "ERROR:root:Internal Python error in the inspect module.\n",
            "Below is the traceback from this internal error.\n",
            "\n"
          ],
          "name": "stderr"
        },
        {
          "output_type": "stream",
          "text": [
            "Traceback (most recent call last):\n",
            "  File \"/usr/local/lib/python3.7/dist-packages/IPython/core/interactiveshell.py\", line 2882, in run_code\n",
            "    exec(code_obj, self.user_global_ns, self.user_ns)\n",
            "  File \"<ipython-input-28-1b0d70930d93>\", line 2, in <module>\n",
            "    get_ipython().magic('cd /content/gdrive/My Drive/Competitions/Kaggle/siim-covid19-detection/DataSets/')\n",
            "  File \"/usr/local/lib/python3.7/dist-packages/IPython/core/interactiveshell.py\", line 2160, in magic\n",
            "    return self.run_line_magic(magic_name, magic_arg_s)\n",
            "  File \"/usr/local/lib/python3.7/dist-packages/IPython/core/interactiveshell.py\", line 2081, in run_line_magic\n",
            "    result = fn(*args,**kwargs)\n",
            "  File \"<decorator-gen-84>\", line 2, in cd\n",
            "  File \"/usr/local/lib/python3.7/dist-packages/IPython/core/magic.py\", line 188, in <lambda>\n",
            "    call = lambda f, *a, **k: f(*a, **k)\n",
            "  File \"/usr/local/lib/python3.7/dist-packages/IPython/core/magics/osm.py\", line 288, in cd\n",
            "    oldcwd = py3compat.getcwd()\n",
            "FileNotFoundError: [Errno 2] No such file or directory\n",
            "\n",
            "During handling of the above exception, another exception occurred:\n",
            "\n",
            "Traceback (most recent call last):\n",
            "  File \"/usr/local/lib/python3.7/dist-packages/IPython/core/interactiveshell.py\", line 1823, in showtraceback\n",
            "    stb = value._render_traceback_()\n",
            "AttributeError: 'FileNotFoundError' object has no attribute '_render_traceback_'\n",
            "\n",
            "During handling of the above exception, another exception occurred:\n",
            "\n",
            "Traceback (most recent call last):\n",
            "  File \"/usr/local/lib/python3.7/dist-packages/IPython/core/ultratb.py\", line 1132, in get_records\n",
            "    return _fixed_getinnerframes(etb, number_of_lines_of_context, tb_offset)\n",
            "  File \"/usr/local/lib/python3.7/dist-packages/IPython/core/ultratb.py\", line 313, in wrapped\n",
            "    return f(*args, **kwargs)\n",
            "  File \"/usr/local/lib/python3.7/dist-packages/IPython/core/ultratb.py\", line 358, in _fixed_getinnerframes\n",
            "    records = fix_frame_records_filenames(inspect.getinnerframes(etb, context))\n",
            "  File \"/usr/lib/python3.7/inspect.py\", line 1502, in getinnerframes\n",
            "    frameinfo = (tb.tb_frame,) + getframeinfo(tb, context)\n",
            "  File \"/usr/lib/python3.7/inspect.py\", line 1460, in getframeinfo\n",
            "    filename = getsourcefile(frame) or getfile(frame)\n",
            "  File \"/usr/lib/python3.7/inspect.py\", line 696, in getsourcefile\n",
            "    if getattr(getmodule(object, filename), '__loader__', None) is not None:\n",
            "  File \"/usr/lib/python3.7/inspect.py\", line 725, in getmodule\n",
            "    file = getabsfile(object, _filename)\n",
            "  File \"/usr/lib/python3.7/inspect.py\", line 709, in getabsfile\n",
            "    return os.path.normcase(os.path.abspath(_filename))\n",
            "  File \"/usr/lib/python3.7/posixpath.py\", line 383, in abspath\n",
            "    cwd = os.getcwd()\n",
            "FileNotFoundError: [Errno 2] No such file or directory\n"
          ],
          "name": "stdout"
        },
        {
          "output_type": "error",
          "ename": "FileNotFoundError",
          "evalue": "ignored",
          "traceback": [
            "\u001b[0;31m---------------------------------------------------------------------------\u001b[0m"
          ]
        }
      ]
    },
    {
      "cell_type": "code",
      "metadata": {
        "colab": {
          "base_uri": "https://localhost:8080/"
        },
        "id": "WfXsaC8hLW9s",
        "outputId": "4bc08ba9-7492-437f-fdb3-6ceec3d14634"
      },
      "source": [
        "!kaggle competitions download -c siim-covid19-detection"
      ],
      "execution_count": 10,
      "outputs": [
        {
          "output_type": "stream",
          "text": [
            "Warning: Looks like you're using an outdated API Version, please consider updating (server 1.5.12 / client 1.5.4)\n",
            "Downloading dbae9b9b9500.dcm.zip to /content/gdrive/My Drive/Competitions/Kaggle/siim-covid19-detection/Data\n",
            "  0% 0.00/930k [00:00<?, ?B/s]\n",
            "100% 930k/930k [00:00<00:00, 29.8MB/s]\n",
            "Downloading 6c42a41a6c6e.dcm.zip to /content/gdrive/My Drive/Competitions/Kaggle/siim-covid19-detection/Data\n",
            " 29% 5.00M/17.3M [00:00<00:00, 35.4MB/s]\n",
            "100% 17.3M/17.3M [00:00<00:00, 68.5MB/s]\n",
            "Downloading af7d1bd1d629.dcm.zip to /content/gdrive/My Drive/Competitions/Kaggle/siim-covid19-detection/Data\n",
            " 33% 7.00M/21.3M [00:00<00:00, 72.2MB/s]\n",
            "100% 21.3M/21.3M [00:00<00:00, 103MB/s] \n",
            "Downloading cea591e99b8a.dcm.zip to /content/gdrive/My Drive/Competitions/Kaggle/siim-covid19-detection/Data\n",
            " 61% 5.00M/8.20M [00:00<00:00, 36.9MB/s]\n",
            "100% 8.20M/8.20M [00:00<00:00, 40.1MB/s]\n",
            "Downloading 0cccb1eca1fc.dcm.zip to /content/gdrive/My Drive/Competitions/Kaggle/siim-covid19-detection/Data\n",
            "  0% 0.00/2.22M [00:00<?, ?B/s]\n",
            "100% 2.22M/2.22M [00:00<00:00, 73.3MB/s]\n",
            "Downloading 951211f8e1bb.dcm.zip to /content/gdrive/My Drive/Competitions/Kaggle/siim-covid19-detection/Data\n",
            "  0% 0.00/5.10M [00:00<?, ?B/s]\n",
            "100% 5.10M/5.10M [00:00<00:00, 80.5MB/s]\n",
            "Downloading 53b4af5b74d7.dcm.zip to /content/gdrive/My Drive/Competitions/Kaggle/siim-covid19-detection/Data\n",
            " 74% 9.00M/12.1M [00:00<00:00, 86.9MB/s]\n",
            "100% 12.1M/12.1M [00:00<00:00, 76.0MB/s]\n",
            "Downloading 3dcdfc352a06.dcm.zip to /content/gdrive/My Drive/Competitions/Kaggle/siim-covid19-detection/Data\n",
            " 45% 5.00M/11.2M [00:00<00:00, 47.3MB/s]\n",
            "100% 11.2M/11.2M [00:00<00:00, 69.8MB/s]\n",
            "Downloading e92b08b5a77c.dcm.zip to /content/gdrive/My Drive/Competitions/Kaggle/siim-covid19-detection/Data\n",
            " 52% 5.00M/9.55M [00:00<00:00, 49.9MB/s]\n",
            "100% 9.55M/9.55M [00:00<00:00, 60.1MB/s]\n",
            "Downloading 5b8ee5baa1d5.dcm.zip to /content/gdrive/My Drive/Competitions/Kaggle/siim-covid19-detection/Data\n",
            "  0% 0.00/5.00M [00:00<?, ?B/s]\n",
            "100% 5.00M/5.00M [00:00<00:00, 78.9MB/s]\n",
            "Downloading 695e2c6dede4.dcm.zip to /content/gdrive/My Drive/Competitions/Kaggle/siim-covid19-detection/Data\n",
            " 76% 5.00M/6.55M [00:00<00:00, 48.0MB/s]\n",
            "100% 6.55M/6.55M [00:00<00:00, 41.5MB/s]\n",
            "Downloading ad98af65ad2a.dcm.zip to /content/gdrive/My Drive/Competitions/Kaggle/siim-covid19-detection/Data\n",
            " 89% 14.0M/15.8M [00:00<00:00, 3.97MB/s]\n",
            "100% 15.8M/15.8M [00:00<00:00, 32.1MB/s]\n",
            "Downloading 5af15b21333b.dcm.zip to /content/gdrive/My Drive/Competitions/Kaggle/siim-covid19-detection/Data\n",
            " 44% 6.00M/13.8M [00:00<00:00, 58.9MB/s]\n",
            "100% 13.8M/13.8M [00:00<00:00, 88.0MB/s]\n",
            "Downloading fec0249d70e4.dcm to /content/gdrive/My Drive/Competitions/Kaggle/siim-covid19-detection/Data\n",
            " 91% 7.00M/7.72M [00:00<00:00, 71.0MB/s]\n",
            "100% 7.72M/7.72M [00:00<00:00, 70.0MB/s]\n",
            "Downloading 26fa9834387e.dcm.zip to /content/gdrive/My Drive/Competitions/Kaggle/siim-covid19-detection/Data\n",
            " 63% 5.00M/7.88M [00:00<00:00, 51.4MB/s]\n",
            "100% 7.88M/7.88M [00:00<00:00, 69.0MB/s]\n",
            "Downloading 51635cbfbe18.dcm.zip to /content/gdrive/My Drive/Competitions/Kaggle/siim-covid19-detection/Data\n",
            " 69% 8.00M/11.6M [00:00<00:00, 81.8MB/s]\n",
            "100% 11.6M/11.6M [00:00<00:00, 72.7MB/s]\n",
            "Downloading 5e0e7acd9c7d.dcm.zip to /content/gdrive/My Drive/Competitions/Kaggle/siim-covid19-detection/Data\n",
            " 87% 10.0M/11.5M [00:00<00:00, 102MB/s]\n",
            "100% 11.5M/11.5M [00:00<00:00, 105MB/s]\n",
            "Downloading f6ba3df9a8be.dcm.zip to /content/gdrive/My Drive/Competitions/Kaggle/siim-covid19-detection/Data\n",
            "100% 21.9M/21.9M [00:00<00:00, 58.3MB/s]\n",
            "\n",
            "Downloading ced40f593496.dcm.zip to /content/gdrive/My Drive/Competitions/Kaggle/siim-covid19-detection/Data\n",
            " 67% 9.00M/13.5M [00:00<00:00, 94.2MB/s]\n",
            "100% 13.5M/13.5M [00:00<00:00, 84.7MB/s]\n",
            "Downloading c39146cbda47.dcm.zip to /content/gdrive/My Drive/Competitions/Kaggle/siim-covid19-detection/Data\n",
            " 61% 9.00M/14.8M [00:00<00:00, 89.3MB/s]\n",
            "100% 14.8M/14.8M [00:00<00:00, 94.2MB/s]\n",
            "Downloading 390ce1f029e7.dcm.zip to /content/gdrive/My Drive/Competitions/Kaggle/siim-covid19-detection/Data\n",
            " 47% 5.00M/10.6M [00:00<00:00, 43.3MB/s]\n",
            "100% 10.6M/10.6M [00:00<00:00, 67.9MB/s]\n",
            "Downloading 12a2dfb55b6f.dcm.zip to /content/gdrive/My Drive/Competitions/Kaggle/siim-covid19-detection/Data\n",
            " 76% 12.0M/15.8M [00:00<00:00, 47.7MB/s]\n",
            "100% 15.8M/15.8M [00:00<00:00, 51.4MB/s]\n",
            "Downloading 51759b5579bc.dcm.zip to /content/gdrive/My Drive/Competitions/Kaggle/siim-covid19-detection/Data\n",
            " 32% 4.00M/12.5M [00:00<00:00, 38.0MB/s]\n",
            "100% 12.5M/12.5M [00:00<00:00, 60.6MB/s]\n",
            "Downloading b81969467c6b.dcm.zip to /content/gdrive/My Drive/Competitions/Kaggle/siim-covid19-detection/Data\n",
            " 87% 5.00M/5.73M [00:00<00:00, 44.3MB/s]\n",
            "100% 5.73M/5.73M [00:00<00:00, 36.0MB/s]\n",
            "Downloading bcd2179fa24e.dcm.zip to /content/gdrive/My Drive/Competitions/Kaggle/siim-covid19-detection/Data\n",
            "  0% 0.00/4.89M [00:00<?, ?B/s]\n",
            "100% 4.89M/4.89M [00:00<00:00, 80.1MB/s]\n",
            "Downloading bb4b1da810f3.dcm.zip to /content/gdrive/My Drive/Competitions/Kaggle/siim-covid19-detection/Data\n",
            " 54% 6.00M/11.2M [00:00<00:00, 58.4MB/s]\n",
            "100% 11.2M/11.2M [00:00<00:00, 71.6MB/s]\n",
            "Downloading 1df3e98f79be.dcm.zip to /content/gdrive/My Drive/Competitions/Kaggle/siim-covid19-detection/Data\n",
            "  0% 0.00/6.00M [00:00<?, ?B/s]\n",
            "100% 6.00M/6.00M [00:00<00:00, 52.1MB/s]\n",
            "Downloading 136af218f8df.dcm.zip to /content/gdrive/My Drive/Competitions/Kaggle/siim-covid19-detection/Data\n",
            " 46% 5.00M/10.8M [00:00<00:00, 45.0MB/s]\n",
            "100% 10.8M/10.8M [00:00<00:00, 53.0MB/s]\n",
            "Downloading b98508598396.dcm.zip to /content/gdrive/My Drive/Competitions/Kaggle/siim-covid19-detection/Data\n",
            " 54% 5.00M/9.21M [00:00<00:00, 21.5MB/s]\n",
            "100% 9.21M/9.21M [00:00<00:00, 30.7MB/s]\n",
            "Downloading 09cf9767a7bf.dcm.zip to /content/gdrive/My Drive/Competitions/Kaggle/siim-covid19-detection/Data\n",
            " 45% 5.00M/11.1M [00:00<00:00, 42.9MB/s]\n",
            "100% 11.1M/11.1M [00:00<00:00, 54.5MB/s]\n",
            "Downloading f6293b1c49e2.dcm.zip to /content/gdrive/My Drive/Competitions/Kaggle/siim-covid19-detection/Data\n",
            " 56% 5.00M/8.97M [00:00<00:00, 50.4MB/s]\n",
            "100% 8.97M/8.97M [00:00<00:00, 57.1MB/s]\n",
            "429 - Too Many Requests\n"
          ],
          "name": "stdout"
        }
      ]
    },
    {
      "cell_type": "code",
      "metadata": {
        "colab": {
          "base_uri": "https://localhost:8080/"
        },
        "id": "4rG5TCANMQ4W",
        "outputId": "b957d5c6-e880-450d-b893-9916d1d9568c"
      },
      "source": [
        "!pwd"
      ],
      "execution_count": 11,
      "outputs": [
        {
          "output_type": "stream",
          "text": [
            "/content/gdrive/My Drive/Competitions/Kaggle/siim-covid19-detection/Data\n"
          ],
          "name": "stdout"
        }
      ]
    },
    {
      "cell_type": "code",
      "metadata": {
        "id": "Fqx83xjkLxFQ",
        "colab": {
          "base_uri": "https://localhost:8080/"
        },
        "outputId": "e66afad2-4c67-4280-f405-97ede4184c2b"
      },
      "source": [
        "!ls"
      ],
      "execution_count": 12,
      "outputs": [
        {
          "output_type": "stream",
          "text": [
            "09cf9767a7bf.dcm.zip  5af15b21333b.dcm.zip  bcd2179fa24e.dcm.zip\n",
            "0cccb1eca1fc.dcm.zip  5b8ee5baa1d5.dcm.zip  c39146cbda47.dcm.zip\n",
            "12a2dfb55b6f.dcm.zip  5e0e7acd9c7d.dcm.zip  cea591e99b8a.dcm.zip\n",
            "136af218f8df.dcm.zip  695e2c6dede4.dcm.zip  ced40f593496.dcm.zip\n",
            "1df3e98f79be.dcm.zip  6c42a41a6c6e.dcm.zip  dbae9b9b9500.dcm.zip\n",
            "26fa9834387e.dcm.zip  951211f8e1bb.dcm.zip  e92b08b5a77c.dcm.zip\n",
            "390ce1f029e7.dcm.zip  ad98af65ad2a.dcm.zip  f6293b1c49e2.dcm.zip\n",
            "3dcdfc352a06.dcm.zip  af7d1bd1d629.dcm.zip  f6ba3df9a8be.dcm.zip\n",
            "51635cbfbe18.dcm.zip  b81969467c6b.dcm.zip  fec0249d70e4.dcm\n",
            "51759b5579bc.dcm.zip  b98508598396.dcm.zip\n",
            "53b4af5b74d7.dcm.zip  bb4b1da810f3.dcm.zip\n"
          ],
          "name": "stdout"
        }
      ]
    },
    {
      "cell_type": "code",
      "metadata": {
        "colab": {
          "base_uri": "https://localhost:8080/"
        },
        "id": "FQzR7xYwOSB3",
        "outputId": "048068e5-167f-4643-9d6a-77fce8c09b5f"
      },
      "source": [
        "#unzipping the zip files and deleting the zip files\n",
        "!unzip \\*.zip  && rm *.zip"
      ],
      "execution_count": 13,
      "outputs": [
        {
          "output_type": "stream",
          "text": [
            "Archive:  dbae9b9b9500.dcm.zip\n",
            "  inflating: dbae9b9b9500.dcm        \n",
            "\n",
            "Archive:  6c42a41a6c6e.dcm.zip\n",
            "  inflating: 6c42a41a6c6e.dcm        \n",
            "\n",
            "Archive:  af7d1bd1d629.dcm.zip\n",
            "  inflating: af7d1bd1d629.dcm        \n",
            "\n",
            "Archive:  cea591e99b8a.dcm.zip\n",
            "  inflating: cea591e99b8a.dcm        \n",
            "\n",
            "Archive:  0cccb1eca1fc.dcm.zip\n",
            "  inflating: 0cccb1eca1fc.dcm        \n",
            "\n",
            "Archive:  951211f8e1bb.dcm.zip\n",
            "  inflating: 951211f8e1bb.dcm        \n",
            "\n",
            "Archive:  53b4af5b74d7.dcm.zip\n",
            "  inflating: 53b4af5b74d7.dcm        \n",
            "\n",
            "Archive:  3dcdfc352a06.dcm.zip\n",
            "  inflating: 3dcdfc352a06.dcm        \n",
            "\n",
            "Archive:  e92b08b5a77c.dcm.zip\n",
            "  inflating: e92b08b5a77c.dcm        \n",
            "\n",
            "Archive:  5b8ee5baa1d5.dcm.zip\n",
            "  inflating: 5b8ee5baa1d5.dcm        \n",
            "\n",
            "Archive:  695e2c6dede4.dcm.zip\n",
            "  inflating: 695e2c6dede4.dcm        \n",
            "\n",
            "Archive:  ad98af65ad2a.dcm.zip\n",
            "  inflating: ad98af65ad2a.dcm        \n",
            "\n",
            "Archive:  5af15b21333b.dcm.zip\n",
            "  inflating: 5af15b21333b.dcm        \n",
            "\n",
            "Archive:  26fa9834387e.dcm.zip\n",
            "  inflating: 26fa9834387e.dcm        \n",
            "\n",
            "Archive:  51635cbfbe18.dcm.zip\n",
            "  inflating: 51635cbfbe18.dcm        \n",
            "\n",
            "Archive:  5e0e7acd9c7d.dcm.zip\n",
            "  inflating: 5e0e7acd9c7d.dcm        \n",
            "\n",
            "Archive:  f6ba3df9a8be.dcm.zip\n",
            "  inflating: f6ba3df9a8be.dcm        \n",
            "\n",
            "Archive:  ced40f593496.dcm.zip\n",
            "  inflating: ced40f593496.dcm        \n",
            "\n",
            "Archive:  c39146cbda47.dcm.zip\n",
            "  inflating: c39146cbda47.dcm        \n",
            "\n",
            "Archive:  390ce1f029e7.dcm.zip\n",
            "  inflating: 390ce1f029e7.dcm        \n",
            "\n",
            "Archive:  12a2dfb55b6f.dcm.zip\n",
            "  inflating: 12a2dfb55b6f.dcm        \n",
            "\n",
            "Archive:  51759b5579bc.dcm.zip\n",
            "  inflating: 51759b5579bc.dcm        \n",
            "\n",
            "Archive:  b81969467c6b.dcm.zip\n",
            "  inflating: b81969467c6b.dcm        \n",
            "\n",
            "Archive:  bcd2179fa24e.dcm.zip\n",
            "  inflating: bcd2179fa24e.dcm        \n",
            "\n",
            "Archive:  bb4b1da810f3.dcm.zip\n",
            "  inflating: bb4b1da810f3.dcm        \n",
            "\n",
            "Archive:  1df3e98f79be.dcm.zip\n",
            "  inflating: 1df3e98f79be.dcm        \n",
            "\n",
            "Archive:  136af218f8df.dcm.zip\n",
            "  inflating: 136af218f8df.dcm        \n",
            "\n",
            "Archive:  b98508598396.dcm.zip\n",
            "  inflating: b98508598396.dcm        \n",
            "\n",
            "Archive:  09cf9767a7bf.dcm.zip\n",
            "  inflating: 09cf9767a7bf.dcm        \n",
            "\n",
            "Archive:  f6293b1c49e2.dcm.zip\n",
            "  inflating: f6293b1c49e2.dcm        \n",
            "\n",
            "30 archives were successfully processed.\n"
          ],
          "name": "stdout"
        }
      ]
    }
  ]
}